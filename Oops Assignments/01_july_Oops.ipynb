{
 "cells": [
  {
   "cell_type": "markdown",
   "id": "31e9a520",
   "metadata": {},
   "source": [
    "## **Object Oriented Programming Assignment : 1**"
   ]
  },
  {
   "cell_type": "markdown",
   "id": "a9c86a25",
   "metadata": {},
   "source": [
    "## 1. What is the primary goal of Object-Oriented Programming (OOP)?"
   ]
  },
  {
   "cell_type": "markdown",
   "id": "e4290021",
   "metadata": {},
   "source": [
    "**Oops** :Object Oriented Programming Holds data into the single object such that It would be easy to pass this to other methods and objects. It provides a way to Organize code, improve code reusability.\n",
    "\n",
    "**key Points**:\n",
    "\n",
    "**Inheritence :** It will allows us to create new classes called sub-classes based on existing classes. Class whose properties and methods are inhereted called as Parent class And the class that inherits the properties from the Parent class is called Child class.\n",
    "\n",
    "**Polymorphysm :** Polymorphysm allows object to respond differently to the same message based on theie specific implementation. It uses same method across different Objects.\n",
    "\n",
    "**Encapsulation :** Encapsulation is the process of wraapping similar code in one place. It helps to protect data and methods from outside methods/interference as it restricts direct access to them."
   ]
  },
  {
   "cell_type": "markdown",
   "id": "2e5e8323",
   "metadata": {},
   "source": [
    "## 2. What is an object in Python?"
   ]
  },
  {
   "cell_type": "markdown",
   "id": "aa19ed2a",
   "metadata": {},
   "source": [
    "**Object** is an Instance of a Class. It is like a blue print while instance is a copy of the class with actual values."
   ]
  },
  {
   "cell_type": "markdown",
   "id": "d94c8516",
   "metadata": {},
   "source": [
    "## 3. What is a class in Python? "
   ]
  },
  {
   "cell_type": "markdown",
   "id": "f9040a0d",
   "metadata": {},
   "source": [
    "**Class :** Class id like an Object Constructor or a Blueprint for creating an Objects."
   ]
  },
  {
   "cell_type": "markdown",
   "id": "91c12d60",
   "metadata": {},
   "source": [
    "## 4. What are attributes and methods in a class?"
   ]
  },
  {
   "cell_type": "markdown",
   "id": "dfd98d3f",
   "metadata": {},
   "source": [
    "Class Methods are the Methods that are access to the class Attributes. Function stored in a instance or class called as Method.\n",
    "\n",
    "Attributes are defined in the class template which represents the state of an Object. Variable stored in a instance or class called as Attribute."
   ]
  },
  {
   "cell_type": "markdown",
   "id": "2b1cecde",
   "metadata": {},
   "source": [
    "## 5. What is the difference between class variables and instance variables in Python?"
   ]
  },
  {
   "cell_type": "markdown",
   "id": "76ec421c",
   "metadata": {},
   "source": [
    "**Class Variables** : It is useful for storing data that is shared among all instance of a class.\n",
    "    \n",
    "**Instance Variables** : It is used to store data that is unique to each instance of class such as Objects properties."
   ]
  },
  {
   "cell_type": "markdown",
   "id": "b8eac8d0",
   "metadata": {},
   "source": [
    "## 6. What is the purpose of the self parameter in Python class methods?"
   ]
  },
  {
   "cell_type": "markdown",
   "id": "8413e9f4",
   "metadata": {},
   "source": [
    "**Self** represents the instance of the class itself. It is not reserved keyword for Oops, we can use any variable name instead of self as a first parameter in instance methods."
   ]
  },
  {
   "cell_type": "markdown",
   "id": "f1f10d77",
   "metadata": {},
   "source": [
    "## 7. For a library management system, you have to design the \"Book\" class with OOP principles in mind. The “Book” class will have following attributes:\n",
    "a. title: Represents the title of the book.\n",
    "\n",
    "b. author: Represents the author(s) of the book.\n",
    "\n",
    "c. isbn: Represents the ISBN (International Standard Book Number) of the book.\n",
    "\n",
    "d. publication_year: Represents the year of publication of the book.\n",
    "\n",
    "e. available_copies: Represents the number of copies available for checkout.\n",
    "\n",
    "**The class will also include the following methods:**\n",
    "\n",
    "a. check_out(self): Decrements the available copies by one if there are copies\n",
    "available for checkout.\n",
    "\n",
    "b. return_book(self): Increments the available copies by one when a book is\n",
    "returned.\n",
    "\n",
    "c. display_book_info(self): Displays the information about the book, including its\n",
    "attributes and the number of available copies.\n"
   ]
  },
  {
   "cell_type": "code",
   "execution_count": 43,
   "id": "1be2226e",
   "metadata": {},
   "outputs": [
    {
     "name": "stdout",
     "output_type": "stream",
     "text": [
      "A copy 'You Matters' is checked out.\n",
      "A copy 'You Matters' has returned.\n",
      "'You Matters' written by 'Dr. Meghna Dixit' has ISBN-13 number :978-1772046212 and Published in year 2021 with 2500 available copies.\n"
     ]
    }
   ],
   "source": [
    "class Book:\n",
    "    def __init__(self, title, author, isbn, publication_year, available_copies):\n",
    "        self.title = title\n",
    "        self.author = author\n",
    "        self.isbn = isbn\n",
    "        self.publication_year = publication_year\n",
    "        self.available_copies = available_copies\n",
    "        \n",
    "    def Check_Out(self):\n",
    "        if self.available_copies > 0:\n",
    "            self.available_copies = self.available_copies - 1\n",
    "            print(f\"A copy '{self.title}' is checked out.\")\n",
    "        else:\n",
    "            print(f\"All copies of '{self.title}' are checked out\")\n",
    "        \n",
    "    def Return_book(self):\n",
    "        self.available_copies = self.available_copies + 1\n",
    "        print(f\"A copy '{self.title}' has returned.\")\n",
    "        \n",
    "    def display_book_info(self):\n",
    "        print(f\"'{self.title}' written by '{self.author}' has ISBN-13 number :{self.isbn} and Published in year {self.publication_year} with {self.available_copies} available copies.\")\n",
    "        \n",
    "B1 = Book('You Matters', 'Dr. Meghna Dixit',  '978-1772046212',  2021, 2500)\n",
    "B1.Check_Out()\n",
    "B1.Return_book()\n",
    "B1.display_book_info()"
   ]
  },
  {
   "cell_type": "markdown",
   "id": "2648fd39",
   "metadata": {},
   "source": [
    "## 8. For a ticket booking system, you have to design the \"Ticket\" class with OOP principles in mind. The “Ticket” class should have the following attributes:\n",
    "a. ticket_id: Represents the unique identifier for the ticket.\n",
    "\n",
    "b. event_name: Represents the name of the event.\n",
    "\n",
    "c. event_date: Represents the date of the event.\n",
    "\n",
    "d. venue: Represents the venue of the event.\n",
    "\n",
    "e. seat_number: Represents the seat number associated with the ticket.\n",
    "\n",
    "f. price: Represents the price of the ticket.\n",
    "\n",
    "g. is_reserved: Represents the reservation status of the ticket.\n",
    "\n",
    "**The class also includes the following methods:**\n",
    "\n",
    "a. reserve_ticket(self): Marks the ticket as reserved if it is not already reserved.\n",
    "\n",
    "b. cancel_reservation(self): Cancels the reservation of the ticket if it is already reserved.\n",
    "\n",
    "c. display_ticket_info(self): Displays the information about the ticket, including its attributes and reservation status."
   ]
  },
  {
   "cell_type": "code",
   "execution_count": 6,
   "id": "4c63a2c3",
   "metadata": {},
   "outputs": [
    {
     "name": "stdout",
     "output_type": "stream",
     "text": [
      "She has reserved ticket for date 25 Aug for me.\n",
      "I have cancelled that 101 seat number which was of Rs 1000 Rs at venue KP Ground.\n",
      "We have Booked total 3 tickets for honey singh's consert.\n"
     ]
    }
   ],
   "source": [
    "class Ticket:\n",
    "    def __init__(self, ticket_id, event_name, event_date, venue, seat_number, price, is_reserved):\n",
    "        self.ticket_id = ticket_id\n",
    "        self.event_name = event_name\n",
    "        self.event_date = event_date\n",
    "        self.venue = venue\n",
    "        self.seat_number = seat_number\n",
    "        self.price = price\n",
    "        self.is_reserved = is_reserved\n",
    "        \n",
    "    def reserve_ticket(self):\n",
    "        print(f\"She has reserved ticket for date {self.event_date} for me.\")\n",
    "    \n",
    "    def cancel_reservation(self):\n",
    "        print(f\"I have cancelled that {self.seat_number} seat number which was of Rs {self.price} at venue {self.venue}.\")\n",
    "        \n",
    "    def display_ticket_info(self):\n",
    "        print(f\"We have {self.is_reserved} total 3 tickets for {self.event_name}.\")\n",
    "        \n",
    "t1 = Ticket('1234560D', \"honey singh's consert\", '25 Aug', 'KP Ground', 101, '1000 Rs', 'Booked')\n",
    "t1.reserve_ticket()\n",
    "t1.cancel_reservation()\n",
    "t1.display_ticket_info()"
   ]
  },
  {
   "cell_type": "markdown",
   "id": "fb9026b6",
   "metadata": {},
   "source": [
    "## 9. You are creating a shopping cart for an e-commerce website. Using OOP to model the \"ShoppingCart\" functionality the class should contain following attributes and methods:\n",
    "a. items: Represents the list of items in the shopping cart.\n",
    "\n",
    "**The class also includes the following methods:**\n",
    "\n",
    "a. add_item(self, item): Adds an item to the shopping cart by appending it to the list of items.\n",
    "\n",
    "b. remove_item(self, item): Removes an item from the shopping cart if it exists in the list.\n",
    "\n",
    "c. view_cart(self): Displays the items currently present in the shopping cart.\n",
    "\n",
    "d. clear_cart(self): Clears all items from the shopping cart by reassigning an empty list to the items attribute.\n"
   ]
  },
  {
   "cell_type": "code",
   "execution_count": 5,
   "id": "8591e276",
   "metadata": {},
   "outputs": [
    {
     "name": "stdout",
     "output_type": "stream",
     "text": [
      "Items in the shopping cart\n",
      "salt\n",
      "pickle\n",
      "sugar\n",
      "Items in the shopping cart\n",
      "pickle\n",
      "sugar\n",
      "Shopping cart is cleared.\n"
     ]
    }
   ],
   "source": [
    "class ShoppingCart:\n",
    "    def __init__(self):\n",
    "        self.item = []\n",
    "        \n",
    "    def add_item(self, item):\n",
    "        self.item.append(item)\n",
    "        \n",
    "    def remove_item(self, item):\n",
    "        if item in self.item:\n",
    "            self.item.remove(item)\n",
    "        else:\n",
    "            print(f\"{item} is not present in the list.\")\n",
    "    def view_cart(self):\n",
    "        if self.item:\n",
    "            print(f\"Items in the shopping cart\")\n",
    "            for i in self.item:\n",
    "                print(i)\n",
    "        else:\n",
    "            print('Shopping cart is empty.')\n",
    "    def clear_cart(self):\n",
    "        self.item.clear()\n",
    "        print(f\"Shopping cart is cleared.\")\n",
    "        \n",
    "s1 = ShoppingCart()\n",
    "s1.add_item('salt')\n",
    "s1.add_item('pickle')\n",
    "s1.add_item('sugar')\n",
    "s1.view_cart()\n",
    "s1.remove_item('salt')\n",
    "s1.view_cart()\n",
    "s1.clear_cart()"
   ]
  },
  {
   "cell_type": "markdown",
   "id": "470d8355",
   "metadata": {},
   "source": [
    "## 10. Imagine a school management system. You have to design the \"Student\" class using OOP concepts.\n",
    "**The “Student” class has the following attributes:**\n",
    "\n",
    "a. name: Represents the name of the student.\n",
    "\n",
    "b. age: Represents the age of the student.\n",
    "\n",
    "c. grade: Represents the grade or class of the student.\n",
    "\n",
    "d. student_id: Represents the unique identifier for the student.\n",
    "\n",
    "e. attendance: Represents the attendance record of the student.\n",
    "\n",
    "**The class should also include the following methods:**\n",
    "\n",
    "a. update_attendance(self, date, status): Updates the attendance record of the student for a given date with the provided status (e.g., present or absent).\n",
    "\n",
    "b. get_attendance(self): Returns the attendance record of the student.\n",
    "\n",
    "c. get_average_attendance(self): Calculates and returns the average attendance percentage of the student based on their attendance record."
   ]
  },
  {
   "cell_type": "code",
   "execution_count": 34,
   "id": "2e4f8682",
   "metadata": {},
   "outputs": [
    {
     "name": "stdout",
     "output_type": "stream",
     "text": [
      "Vishakha was Present present 08-07-2023.\n"
     ]
    },
    {
     "data": {
      "text/plain": [
       "100.0"
      ]
     },
     "execution_count": 34,
     "metadata": {},
     "output_type": "execute_result"
    }
   ],
   "source": [
    "class Student:\n",
    "    def __init__(self, name, age, grade, student_id, attendance):\n",
    "        self.name = name\n",
    "        self.age = age\n",
    "        self.grade = grade\n",
    "        self.student_id = student_id\n",
    "        self.attendance = {}\n",
    "        \n",
    "    def update_attendance(self, date, status):\n",
    "        self.attendance[date] = status\n",
    "        \n",
    "        print(f\"{self.name} was {status} present {date}.\")\n",
    "        \n",
    "    def get_attendance(self):\n",
    "        print(f\"{self.student_id} student was {self.attendance} in all semester, so she gets {self.grade} Grade at the age of {self.age}.\")\n",
    "        for date, status in self.attendance.items():\n",
    "            print(f\"she was sick on date {date} : {status}\")\n",
    "        \n",
    "    def get_average_attendance(self):\n",
    "        t_d = len(self.attendance)\n",
    "        if t_d == 0:\n",
    "            return 0\n",
    "        \n",
    "        p_d = sum(1 for status in self.attendance.values() if status == 'Present')\n",
    "        attendance_percentage = (p_d / t_d) * 100\n",
    "        return attendance_percentage\n",
    "    \n",
    "s1 = Student('Vishakha', 21, 'A', '101D',{})\n",
    "s1.update_attendance('08-07-2023', 'Present')\n",
    "\n",
    "s1.get_average_attendance()"
   ]
  },
  {
   "cell_type": "markdown",
   "id": "4517abe2",
   "metadata": {},
   "source": [
    "## Thank You!"
   ]
  }
 ],
 "metadata": {
  "kernelspec": {
   "display_name": "Python 3 (ipykernel)",
   "language": "python",
   "name": "python3"
  },
  "language_info": {
   "codemirror_mode": {
    "name": "ipython",
    "version": 3
   },
   "file_extension": ".py",
   "mimetype": "text/x-python",
   "name": "python",
   "nbconvert_exporter": "python",
   "pygments_lexer": "ipython3",
   "version": "3.9.8"
  }
 },
 "nbformat": 4,
 "nbformat_minor": 5
}
