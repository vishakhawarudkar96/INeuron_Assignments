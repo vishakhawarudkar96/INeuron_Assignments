{
 "cells": [
  {
   "cell_type": "markdown",
   "id": "9eb58c06",
   "metadata": {},
   "source": [
    "## Assignment 4"
   ]
  },
  {
   "cell_type": "markdown",
   "id": "cc588bc8",
   "metadata": {},
   "source": [
    "## 1. What exactly is []?"
   ]
  },
  {
   "cell_type": "markdown",
   "id": "14ee16f0",
   "metadata": {},
   "source": [
    "**[ ]** represents empty list in the programing. List is a data structure that stores an ordered collection of elements. "
   ]
  },
  {
   "cell_type": "markdown",
   "id": "3ea5c528",
   "metadata": {},
   "source": [
    "## 2. In a list of values stored in a variable called spam, how would you assign the value 'hello' as the third value? (Assume [2, 4, 6, 8, 10] are in spam.)"
   ]
  },
  {
   "cell_type": "code",
   "execution_count": 1,
   "id": "7655caed",
   "metadata": {},
   "outputs": [
    {
     "data": {
      "text/plain": [
       "[2, 4, 'hello', 8, 10]"
      ]
     },
     "execution_count": 1,
     "metadata": {},
     "output_type": "execute_result"
    }
   ],
   "source": [
    "spam = [2,4,6,8,10]\n",
    "spam[2] = 'hello'\n",
    "spam"
   ]
  },
  {
   "cell_type": "markdown",
   "id": "fa8646c3",
   "metadata": {},
   "source": [
    "## Let's pretend the spam includes the list ['a', 'b', 'c', 'd'] for the next three queries."
   ]
  },
  {
   "cell_type": "markdown",
   "id": "9261ee99",
   "metadata": {},
   "source": [
    "## 3. What is the value of spam[int(int('3' * 2) / 11)]?"
   ]
  },
  {
   "cell_type": "code",
   "execution_count": 2,
   "id": "eed82a83",
   "metadata": {},
   "outputs": [
    {
     "data": {
      "text/plain": [
       "'d'"
      ]
     },
     "execution_count": 2,
     "metadata": {},
     "output_type": "execute_result"
    }
   ],
   "source": [
    "spam = ['a', 'b', 'c', 'd']\n",
    "res = spam[int(int('3'*2)/11)]\n",
    "res"
   ]
  },
  {
   "cell_type": "markdown",
   "id": "5f47b301",
   "metadata": {},
   "source": [
    "## 4. What is the value of spam[-1]?"
   ]
  },
  {
   "cell_type": "code",
   "execution_count": 3,
   "id": "4dd6ce08",
   "metadata": {},
   "outputs": [
    {
     "data": {
      "text/plain": [
       "'d'"
      ]
     },
     "execution_count": 3,
     "metadata": {},
     "output_type": "execute_result"
    }
   ],
   "source": [
    "spam = ['a', 'b', 'c', 'd']\n",
    "spam[-1]"
   ]
  },
  {
   "cell_type": "markdown",
   "id": "a89ae658",
   "metadata": {},
   "source": [
    "## 5. What is the value of spam[:2]?"
   ]
  },
  {
   "cell_type": "code",
   "execution_count": 4,
   "id": "9b54c264",
   "metadata": {},
   "outputs": [
    {
     "data": {
      "text/plain": [
       "['a', 'b']"
      ]
     },
     "execution_count": 4,
     "metadata": {},
     "output_type": "execute_result"
    }
   ],
   "source": [
    "spam = ['a', 'b', 'c', 'd']\n",
    "spam[:2]"
   ]
  },
  {
   "cell_type": "markdown",
   "id": "9a89dc13",
   "metadata": {},
   "source": [
    "## Let's pretend bacon has the list [3.14, 'cat,' 11, 'cat,' True] for the next three questions."
   ]
  },
  {
   "cell_type": "markdown",
   "id": "bcaccbc9",
   "metadata": {},
   "source": [
    "## 6. What is the value of bacon.index('cat')?"
   ]
  },
  {
   "cell_type": "code",
   "execution_count": 5,
   "id": "b0b84633",
   "metadata": {},
   "outputs": [
    {
     "data": {
      "text/plain": [
       "1"
      ]
     },
     "execution_count": 5,
     "metadata": {},
     "output_type": "execute_result"
    }
   ],
   "source": [
    "bacon = [3.14, 'cat', 11, 'cat', True]\n",
    "bacon.index('cat')"
   ]
  },
  {
   "cell_type": "markdown",
   "id": "4a4424c4",
   "metadata": {},
   "source": [
    "## 7. How does bacon.append(99) change the look of the list value in bacon?"
   ]
  },
  {
   "cell_type": "code",
   "execution_count": 6,
   "id": "a6ce8b70",
   "metadata": {},
   "outputs": [
    {
     "data": {
      "text/plain": [
       "[3.14, 'cat', 11, 'cat', True, 99]"
      ]
     },
     "execution_count": 6,
     "metadata": {},
     "output_type": "execute_result"
    }
   ],
   "source": [
    "bacon = [3.14, 'cat', 11, 'cat', True]\n",
    "bacon.append(99)\n",
    "bacon # 99 will get add in the end of the list."
   ]
  },
  {
   "cell_type": "markdown",
   "id": "0ec78c20",
   "metadata": {},
   "source": [
    "## 8. How does bacon.remove('cat') change the look of the list in bacon?"
   ]
  },
  {
   "cell_type": "code",
   "execution_count": 7,
   "id": "fdfad35e",
   "metadata": {},
   "outputs": [
    {
     "data": {
      "text/plain": [
       "[3.14, 11, 'cat', True]"
      ]
     },
     "execution_count": 7,
     "metadata": {},
     "output_type": "execute_result"
    }
   ],
   "source": [
    "bacon = [3.14, 'cat', 11, 'cat', True]\n",
    "bacon.remove('cat')\n",
    "bacon # this will remove first occurance of the string 'cat'"
   ]
  },
  {
   "cell_type": "markdown",
   "id": "9dfab2cf",
   "metadata": {},
   "source": [
    "## 9. What are the list concatenation and list replication operators?"
   ]
  },
  {
   "cell_type": "code",
   "execution_count": 8,
   "id": "b8a40289",
   "metadata": {},
   "outputs": [
    {
     "data": {
      "text/plain": [
       "[1, 3, 5, 2, 4, 6]"
      ]
     },
     "execution_count": 8,
     "metadata": {},
     "output_type": "execute_result"
    }
   ],
   "source": [
    "# List Concatenation\n",
    "list1 = [1,3,5]\n",
    "list2 = [2,4,6]\n",
    "concat = list1  + list2\n",
    "concat #For Concatenation, addition (+) symbol used."
   ]
  },
  {
   "cell_type": "code",
   "execution_count": 9,
   "id": "8ce093d9",
   "metadata": {},
   "outputs": [
    {
     "data": {
      "text/plain": [
       "[2, 4, 6, 2, 4, 6, 2, 4, 6]"
      ]
     },
     "execution_count": 9,
     "metadata": {},
     "output_type": "execute_result"
    }
   ],
   "source": [
    "# List Replication Operator\n",
    "list1 = [2,4,6]\n",
    "new_list = list1 * 3\n",
    "new_list # For Replication, '*' symbol used."
   ]
  },
  {
   "cell_type": "markdown",
   "id": "9304ae03",
   "metadata": {},
   "source": [
    "## 10. What is difference between the list methods append() and insert()?"
   ]
  },
  {
   "cell_type": "code",
   "execution_count": 10,
   "id": "fc88e846",
   "metadata": {},
   "outputs": [
    {
     "data": {
      "text/plain": [
       "[2, 4, 6, 8, 10, 100]"
      ]
     },
     "execution_count": 10,
     "metadata": {},
     "output_type": "execute_result"
    }
   ],
   "source": [
    "list1 = [2,4,6,8,10]\n",
    "list1.append(100)\n",
    "list1"
   ]
  },
  {
   "cell_type": "code",
   "execution_count": 11,
   "id": "a6880d9f",
   "metadata": {},
   "outputs": [
    {
     "data": {
      "text/plain": [
       "[2, 4, 6, 8, 10, 100]"
      ]
     },
     "execution_count": 11,
     "metadata": {},
     "output_type": "execute_result"
    }
   ],
   "source": [
    "list2 = [2,4,6,8,10]\n",
    "list2.insert(5, 100) # 5 is the index location and 100 will get us on 5th index location.\n",
    "list2"
   ]
  },
  {
   "cell_type": "markdown",
   "id": "26df49ff",
   "metadata": {},
   "source": [
    "## 11. What are the two methods for removing items from a list?"
   ]
  },
  {
   "cell_type": "code",
   "execution_count": 12,
   "id": "17cc37ee",
   "metadata": {},
   "outputs": [
    {
     "data": {
      "text/plain": [
       "[3, 5, 7, 11]"
      ]
     },
     "execution_count": 12,
     "metadata": {},
     "output_type": "execute_result"
    }
   ],
   "source": [
    "list1 = [3,5,7,9,11]\n",
    "list1.pop(3) # To remove element, we have to mention index number. If index number not provided,\n",
    "                                                        #It will remove last element of the list.\n",
    "list1"
   ]
  },
  {
   "cell_type": "code",
   "execution_count": 13,
   "id": "e334d8d3",
   "metadata": {},
   "outputs": [
    {
     "data": {
      "text/plain": [
       "[3, 5, 7, 11, 9]"
      ]
     },
     "execution_count": 13,
     "metadata": {},
     "output_type": "execute_result"
    }
   ],
   "source": [
    "list1 = [3,5,7,9,11,9]\n",
    "list1.remove(9) # will get to remove exact number we want to remove or first occurance of that number.\n",
    "list1"
   ]
  },
  {
   "cell_type": "markdown",
   "id": "244a4fe7",
   "metadata": {},
   "source": [
    "## 12. Describe how list values and string values are identical."
   ]
  },
  {
   "cell_type": "markdown",
   "id": "fda09797",
   "metadata": {},
   "source": [
    "**Indexing :** Both Strings and Lists allows Indexing and It starts from 0 for both strings and lists.\n",
    "    \n",
    "**Slicing :** Both supports Slicing. It allows to to fetch the portion of sequence by mentioning start and end index.\n",
    "\n",
    "**Sequence of Elements :** List is an ordered sequence of object types and Strings is an Ordered Sequence of characters."
   ]
  },
  {
   "cell_type": "markdown",
   "id": "c791d4d9",
   "metadata": {},
   "source": [
    "## 13. What's the difference between tuples and lists?"
   ]
  },
  {
   "cell_type": "markdown",
   "id": "193990ed",
   "metadata": {},
   "source": [
    "**List :** Mutable, Consumes more memory, Operations like deletion and insertion easily performed.\n",
    "\n",
    "**Tuples :** Immutable, Consumes less memory, Elements can be accessed easily."
   ]
  },
  {
   "cell_type": "markdown",
   "id": "72c198b1",
   "metadata": {},
   "source": [
    "## 14. How do you type a tuple value that only contains the integer 42?"
   ]
  },
  {
   "cell_type": "code",
   "execution_count": 14,
   "id": "4268b75b",
   "metadata": {},
   "outputs": [
    {
     "name": "stdout",
     "output_type": "stream",
     "text": [
      "(42,)\n",
      "42\n"
     ]
    }
   ],
   "source": [
    "tp = (42,)\n",
    "print(tp)\n",
    "print(tp[0])"
   ]
  },
  {
   "cell_type": "markdown",
   "id": "63a0e660",
   "metadata": {},
   "source": [
    "## 15. How do you get a list value's tuple form? How do you get a tuple value's list form?"
   ]
  },
  {
   "cell_type": "code",
   "execution_count": 15,
   "id": "9ca4e93b",
   "metadata": {},
   "outputs": [
    {
     "data": {
      "text/plain": [
       "(1, 2, 3, 4, 5, 6, 7, 8)"
      ]
     },
     "execution_count": 15,
     "metadata": {},
     "output_type": "execute_result"
    }
   ],
   "source": [
    "list1 = [1,2,3,4,5,6,7,8]\n",
    "tpl = tuple(list1)\n",
    "tpl"
   ]
  },
  {
   "cell_type": "markdown",
   "id": "4f27b063",
   "metadata": {},
   "source": [
    "## 16. Variables that \"contain\" list values are not necessarily lists themselves. Instead, what do they contain?"
   ]
  },
  {
   "cell_type": "code",
   "execution_count": 16,
   "id": "e3574a32",
   "metadata": {},
   "outputs": [
    {
     "data": {
      "text/plain": [
       "([2, 4, 6, 100], [2, 4, 6, 100])"
      ]
     },
     "execution_count": 16,
     "metadata": {},
     "output_type": "execute_result"
    }
   ],
   "source": [
    "list1 = [2,4,6]\n",
    "list2 = list1\n",
    "list1.append(100)\n",
    "list1, list2"
   ]
  },
  {
   "cell_type": "markdown",
   "id": "8d0f460d",
   "metadata": {},
   "source": [
    "## 17. How do you distinguish between copy.copy() and copy.deepcopy()?"
   ]
  },
  {
   "cell_type": "markdown",
   "id": "6d7d8d9e",
   "metadata": {},
   "source": [
    "**copy.copy():** It is a **shallow copy** which create reference to original object. If we change to copied object that will change to original object automatically.\n",
    "\n",
    "**copy.deepcopy():** **deepcopy()** creates a new object and does really copying the original object to new one. Changing new object doesnot affect the original copy."
   ]
  },
  {
   "cell_type": "markdown",
   "id": "26e1883e",
   "metadata": {},
   "source": [
    "## Thank You!"
   ]
  }
 ],
 "metadata": {
  "kernelspec": {
   "display_name": "Python 3 (ipykernel)",
   "language": "python",
   "name": "python3"
  },
  "language_info": {
   "codemirror_mode": {
    "name": "ipython",
    "version": 3
   },
   "file_extension": ".py",
   "mimetype": "text/x-python",
   "name": "python",
   "nbconvert_exporter": "python",
   "pygments_lexer": "ipython3",
   "version": "3.9.8"
  }
 },
 "nbformat": 4,
 "nbformat_minor": 5
}
