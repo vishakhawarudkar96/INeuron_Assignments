{
 "cells": [
  {
   "cell_type": "markdown",
   "id": "13b8ac91",
   "metadata": {},
   "source": [
    "## **Assignment 9**"
   ]
  },
  {
   "cell_type": "markdown",
   "id": "e37b8e20",
   "metadata": {},
   "source": [
    "## **1. What is a lambda function in Python, and how does it differ from a regular function?**"
   ]
  },
  {
   "cell_type": "markdown",
   "id": "d54fc8f1",
   "metadata": {},
   "source": [
    "**Lambda** is an Anonymous Function. We can define it without a name and It can take any number of arguments.\n",
    "We define Lambda function using **Lambda** keyword."
   ]
  },
  {
   "cell_type": "markdown",
   "id": "3f2457ca",
   "metadata": {},
   "source": [
    "## 2. Can a lambda function in Python have multiple arguments? If yes, how can you define and use them?"
   ]
  },
  {
   "cell_type": "code",
   "execution_count": 1,
   "id": "8632f62d",
   "metadata": {},
   "outputs": [
    {
     "data": {
      "text/plain": [
       "7"
      ]
     },
     "execution_count": 1,
     "metadata": {},
     "output_type": "execute_result"
    }
   ],
   "source": [
    "lm = lambda x, y, z : x + y * z\n",
    "rs = lm(1,2,3) # used BODMAS Rule here\n",
    "rs"
   ]
  },
  {
   "cell_type": "markdown",
   "id": "a1e6aa6d",
   "metadata": {},
   "source": [
    "## 3. How are lambda functions typically used in Python? Provide an example use case."
   ]
  },
  {
   "cell_type": "code",
   "execution_count": 2,
   "id": "bc303902",
   "metadata": {},
   "outputs": [
    {
     "data": {
      "text/plain": [
       "10"
      ]
     },
     "execution_count": 2,
     "metadata": {},
     "output_type": "execute_result"
    }
   ],
   "source": [
    "a = lambda x:x+x #input value wwill add with itself\n",
    "a(5)"
   ]
  },
  {
   "cell_type": "markdown",
   "id": "73d5f53c",
   "metadata": {},
   "source": [
    "## 4. What are the advantages and limitations of lambda functions compared to regular functions in Python?"
   ]
  },
  {
   "cell_type": "markdown",
   "id": "8e311b68",
   "metadata": {},
   "source": [
    "### Advantages\n",
    "\n",
    "**Lambda** will have single line of code, we dont need to write complex structures like loops.\n",
    "\n",
    "Easy to understand and Readable as it is expressed in single line.\n",
    "\n",
    "We can define it without a name and It can take any number of arguments.\n",
    "\n",
    "\n",
    "### Limitations\n",
    "\n",
    "lambda function cannot have a docstring.\n",
    "\n",
    "It can take maximum time to run is 15 minutes and minimum can be upto 3 seconds.\n"
   ]
  },
  {
   "cell_type": "markdown",
   "id": "9a1bf50f",
   "metadata": {},
   "source": [
    "## 5. Are lambda functions in Python able to access variables defined outside of their own scope? Explain with an example"
   ]
  },
  {
   "cell_type": "markdown",
   "id": "024bc1c2",
   "metadata": {},
   "source": [
    "**Lambda** function cannot directly access variables which we define outside of their own scope. "
   ]
  },
  {
   "cell_type": "code",
   "execution_count": 3,
   "id": "98248c5b",
   "metadata": {},
   "outputs": [
    {
     "data": {
      "text/plain": [
       "125"
      ]
     },
     "execution_count": 3,
     "metadata": {},
     "output_type": "execute_result"
    }
   ],
   "source": [
    "def Cube():\n",
    "    num = 3\n",
    "    return lambda x : x**num\n",
    "res = Cube()\n",
    "res(5)"
   ]
  },
  {
   "cell_type": "code",
   "execution_count": 4,
   "id": "a18d26c8",
   "metadata": {},
   "outputs": [
    {
     "data": {
      "text/plain": [
       "125"
      ]
     },
     "execution_count": 4,
     "metadata": {},
     "output_type": "execute_result"
    }
   ],
   "source": [
    "# Accessing variable through closure(outside of function)\n",
    "x = 5 \n",
    "poww = lambda y : x ** y\n",
    "res = poww(3)\n",
    "res"
   ]
  },
  {
   "cell_type": "markdown",
   "id": "39e90c46",
   "metadata": {},
   "source": [
    "## 6. Write a lambda function to calculate the square of a given number."
   ]
  },
  {
   "cell_type": "code",
   "execution_count": 5,
   "id": "f819c87b",
   "metadata": {},
   "outputs": [
    {
     "name": "stdout",
     "output_type": "stream",
     "text": [
      "Enter the number: 5\n",
      "25\n"
     ]
    }
   ],
   "source": [
    "x = int(input(\"Enter the number: \"))\n",
    "ss = lambda x:x**2\n",
    "print(ss(x))"
   ]
  },
  {
   "cell_type": "markdown",
   "id": "d1dca543",
   "metadata": {},
   "source": [
    "## 7. Create a lambda function to find the maximum value in a list of integers."
   ]
  },
  {
   "cell_type": "code",
   "execution_count": 6,
   "id": "8400d937",
   "metadata": {},
   "outputs": [
    {
     "data": {
      "text/plain": [
       "109"
      ]
     },
     "execution_count": 6,
     "metadata": {},
     "output_type": "execute_result"
    }
   ],
   "source": [
    "list1 = [1,3,4,6,7,9,5,109]\n",
    "mx = lambda x:max(x)\n",
    "mx(list1)"
   ]
  },
  {
   "cell_type": "markdown",
   "id": "875d6efa",
   "metadata": {},
   "source": [
    "## 8. Implement a lambda function to filter out all the even numbers from a list of integers."
   ]
  },
  {
   "cell_type": "code",
   "execution_count": 7,
   "id": "ee58d436",
   "metadata": {},
   "outputs": [
    {
     "name": "stdout",
     "output_type": "stream",
     "text": [
      "[2, 4, 6, 8, 10]\n"
     ]
    }
   ],
   "source": [
    "nums = [1,2,3,4,5,6,7,8,9,10]\n",
    "en = list(filter(lambda x:x%2 == 0, nums))\n",
    "print(en)"
   ]
  },
  {
   "cell_type": "markdown",
   "id": "41debcef",
   "metadata": {},
   "source": [
    "## 9. Write a lambda function to sort a list of strings in ascending order based on the length of each string"
   ]
  },
  {
   "cell_type": "code",
   "execution_count": 8,
   "id": "40992c3f",
   "metadata": {},
   "outputs": [
    {
     "data": {
      "text/plain": [
       "['Harsh', 'Pinky', 'Pranay', 'vishakha']"
      ]
     },
     "execution_count": 8,
     "metadata": {},
     "output_type": "execute_result"
    }
   ],
   "source": [
    "strr = ['vishakha', 'Pranay', 'Harsh', 'Pinky']\n",
    "asc = sorted(strr, key = lambda x:len(x))\n",
    "asc"
   ]
  },
  {
   "cell_type": "markdown",
   "id": "569e4fbf",
   "metadata": {},
   "source": [
    "## 10. Create a lambda function that takes two lists as input and returns a new list containing the common elements between the two lists."
   ]
  },
  {
   "cell_type": "code",
   "execution_count": 9,
   "id": "134b855a",
   "metadata": {},
   "outputs": [
    {
     "name": "stdout",
     "output_type": "stream",
     "text": [
      "[1, 5, 6]\n"
     ]
    }
   ],
   "source": [
    "l1 = [1,2,3,4,5,6]\n",
    "l2 = [5,6,7,8,9,1]\n",
    "\n",
    "cm = lambda x, y: [i for i in l1 if i in l2]\n",
    "print(cm(l1, l2))\n"
   ]
  },
  {
   "cell_type": "markdown",
   "id": "18579a93",
   "metadata": {},
   "source": [
    "## 11. Write a recursive function to calculate the factorial of a given positive integer."
   ]
  },
  {
   "cell_type": "code",
   "execution_count": 10,
   "id": "7ef75a9e",
   "metadata": {},
   "outputs": [
    {
     "data": {
      "text/plain": [
       "120"
      ]
     },
     "execution_count": 10,
     "metadata": {},
     "output_type": "execute_result"
    }
   ],
   "source": [
    "def facto(n):\n",
    "    if n < 0:\n",
    "        return 'Its Invalid'\n",
    "    elif n == 0 or n == 1:\n",
    "        return 1\n",
    "    else:\n",
    "        return n * facto(n - 1)\n",
    "    \n",
    "facto(5)\n"
   ]
  },
  {
   "cell_type": "markdown",
   "id": "2195f503",
   "metadata": {},
   "source": [
    "## 12. Implement a recursive function to compute the nth Fibonacci number."
   ]
  },
  {
   "cell_type": "code",
   "execution_count": 11,
   "id": "ef9bbd68",
   "metadata": {},
   "outputs": [
    {
     "data": {
      "text/plain": [
       "21"
      ]
     },
     "execution_count": 11,
     "metadata": {},
     "output_type": "execute_result"
    }
   ],
   "source": [
    "def febo(n):\n",
    "    if n <= 0:\n",
    "        return 'Its Invalid'\n",
    "    elif n == 1:\n",
    "        return 0\n",
    "    elif n == 2:\n",
    "        return 1 \n",
    "    else:\n",
    "        return febo(n-1)+febo(n-2)\n",
    "    \n",
    "febo(9)"
   ]
  },
  {
   "cell_type": "markdown",
   "id": "99a46739",
   "metadata": {},
   "source": [
    "## 13. Create a recursive function to find the sum of all the elements in a given list."
   ]
  },
  {
   "cell_type": "code",
   "execution_count": 12,
   "id": "52312003",
   "metadata": {},
   "outputs": [
    {
     "data": {
      "text/plain": [
       "21"
      ]
     },
     "execution_count": 12,
     "metadata": {},
     "output_type": "execute_result"
    }
   ],
   "source": [
    "list1 = [1,2,3,4,5,6]\n",
    "def sum_ele(list1):\n",
    "    if not list1:\n",
    "        return 0\n",
    "    else:\n",
    "        return list1[0]+sum_ele(list1[1:])\n",
    "    \n",
    "sum_ele(list1)"
   ]
  },
  {
   "cell_type": "markdown",
   "id": "799e8713",
   "metadata": {},
   "source": [
    "## 14. Write a recursive function to determine whether a given string is a palindrome."
   ]
  },
  {
   "cell_type": "code",
   "execution_count": 13,
   "id": "9252f41e",
   "metadata": {},
   "outputs": [
    {
     "name": "stdout",
     "output_type": "stream",
     "text": [
      "Enter the string1: mom\n",
      "Yes, Palindrome!\n",
      "True\n"
     ]
    }
   ],
   "source": [
    "def is_palindrome(strr):\n",
    "    return strr == strr[::-1]\n",
    "\n",
    "strr1 = input('Enter the string1: ')\n",
    "\n",
    "if is_palindrome(strr1):\n",
    "    print('Yes, Palindrome!')\n",
    "else:\n",
    "    print('Not Palindrome!')\n",
    "\n",
    "res = is_palindrome(strr1)\n",
    "print(res)"
   ]
  },
  {
   "cell_type": "markdown",
   "id": "c1a8d8eb",
   "metadata": {},
   "source": [
    "## 15. Implement a recursive function to find the greatest common divisor (GCD) of two positive integers."
   ]
  },
  {
   "cell_type": "code",
   "execution_count": 14,
   "id": "d68c8072",
   "metadata": {},
   "outputs": [
    {
     "name": "stdout",
     "output_type": "stream",
     "text": [
      "Enter 1st number: 10\n",
      "Enter 2nd number: 12\n"
     ]
    },
    {
     "data": {
      "text/plain": [
       "2"
      ]
     },
     "execution_count": 14,
     "metadata": {},
     "output_type": "execute_result"
    }
   ],
   "source": [
    "def find_GCD(a, b):\n",
    "    if a == b:\n",
    "        return a\n",
    "    elif a > b:\n",
    "        return find_GCD(a-b, b)\n",
    "    else:\n",
    "        return find_GCD(b, b-a)\n",
    "num1 = int(input('Enter 1st number: '))\n",
    "num2 = int(input('Enter 2nd number: '))\n",
    "find_GCD(num1, num2)"
   ]
  },
  {
   "cell_type": "markdown",
   "id": "8c0f4c2c",
   "metadata": {},
   "source": [
    "## Thank You!"
   ]
  }
 ],
 "metadata": {
  "kernelspec": {
   "display_name": "Python 3 (ipykernel)",
   "language": "python",
   "name": "python3"
  },
  "language_info": {
   "codemirror_mode": {
    "name": "ipython",
    "version": 3
   },
   "file_extension": ".py",
   "mimetype": "text/x-python",
   "name": "python",
   "nbconvert_exporter": "python",
   "pygments_lexer": "ipython3",
   "version": "3.9.8"
  }
 },
 "nbformat": 4,
 "nbformat_minor": 5
}
