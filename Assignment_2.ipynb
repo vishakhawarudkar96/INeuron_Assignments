{
 "cells": [
  {
   "cell_type": "markdown",
   "id": "1c08a598",
   "metadata": {},
   "source": [
    "## Assignment 2"
   ]
  },
  {
   "cell_type": "markdown",
   "id": "cd9a8f84",
   "metadata": {},
   "source": [
    "## 1.What are the two values of the Boolean data type? How do you write them?"
   ]
  },
  {
   "cell_type": "markdown",
   "id": "ed599338",
   "metadata": {},
   "source": [
    "Boolean Data Types Represents Logical Value like **True** and **False.**"
   ]
  },
  {
   "cell_type": "code",
   "execution_count": 1,
   "id": "ad02d696",
   "metadata": {},
   "outputs": [],
   "source": [
    "var1 = True\n",
    "var2 = False"
   ]
  },
  {
   "cell_type": "markdown",
   "id": "35abaa04",
   "metadata": {},
   "source": [
    "## 2. What are the three different types of Boolean operators?"
   ]
  },
  {
   "cell_type": "markdown",
   "id": "d985104f",
   "metadata": {},
   "source": [
    "Boolean Operators\n",
    "\n",
    "**1. AND** : AND Operator will return True if both Values/Statements are True.\n",
    "\n",
    "**2. OR** : OR Operator will return True if any one value/statement is True.\n",
    "\n",
    "**3. NOT** : NOT Operator will reverse the result, It will give output as False if the result is True."
   ]
  },
  {
   "cell_type": "markdown",
   "id": "66c1cc4b",
   "metadata": {},
   "source": [
    "## 3. Make a list of each Boolean operator&#39;s truth tables (i.e. every possible combination of Boolean values for the operator and what it evaluate ).\n"
   ]
  },
  {
   "cell_type": "code",
   "execution_count": 2,
   "id": "80c8764a",
   "metadata": {},
   "outputs": [
    {
     "name": "stdout",
     "output_type": "stream",
     "text": [
      "False\n",
      "True\n"
     ]
    }
   ],
   "source": [
    "a = 5\n",
    "b = 6\n",
    "print(a is b)\n",
    "print(a is not b)"
   ]
  },
  {
   "cell_type": "code",
   "execution_count": 3,
   "id": "ba0a6ef3",
   "metadata": {},
   "outputs": [
    {
     "name": "stdout",
     "output_type": "stream",
     "text": [
      "True\n",
      "False\n",
      "False\n",
      "False\n"
     ]
    }
   ],
   "source": [
    "# AND\n",
    "print(True and True)\n",
    "print(True and False)\n",
    "print(False and True)\n",
    "print(False and False)"
   ]
  },
  {
   "cell_type": "code",
   "execution_count": 4,
   "id": "5c46c49f",
   "metadata": {},
   "outputs": [
    {
     "name": "stdout",
     "output_type": "stream",
     "text": [
      "True\n",
      "True\n",
      "True\n",
      "False\n"
     ]
    }
   ],
   "source": [
    "# OR\n",
    "print(True or True)\n",
    "print(True or False)\n",
    "print(False or True)\n",
    "print(False or False)"
   ]
  },
  {
   "cell_type": "code",
   "execution_count": 5,
   "id": "f63a3da5",
   "metadata": {},
   "outputs": [
    {
     "name": "stdout",
     "output_type": "stream",
     "text": [
      "False\n",
      "True\n"
     ]
    }
   ],
   "source": [
    "# NOT\n",
    "print(not True)\n",
    "print(not False)"
   ]
  },
  {
   "cell_type": "markdown",
   "id": "93fb9c24",
   "metadata": {},
   "source": [
    "## 4. What are the values of the following expressions?\n",
    "(5 &gt; 4) and (3 == 5)\n",
    "\n",
    "not (5 &gt; 4)\n",
    "\n",
    "(5 &gt; 4) or (3 == 5)\n",
    "\n",
    "not ((5 &gt; 4) or (3 == 5))\n",
    "\n",
    "(True and True) and (True == False)\n",
    "\n",
    "(not False) or (not True)"
   ]
  },
  {
   "cell_type": "code",
   "execution_count": 6,
   "id": "458994f8",
   "metadata": {},
   "outputs": [
    {
     "data": {
      "text/plain": [
       "False"
      ]
     },
     "execution_count": 6,
     "metadata": {},
     "output_type": "execute_result"
    }
   ],
   "source": [
    "(5 > 4) and (3 == 5) # True and False = False"
   ]
  },
  {
   "cell_type": "code",
   "execution_count": 7,
   "id": "f3ec9e95",
   "metadata": {},
   "outputs": [
    {
     "data": {
      "text/plain": [
       "False"
      ]
     },
     "execution_count": 7,
     "metadata": {},
     "output_type": "execute_result"
    }
   ],
   "source": [
    "not (5 > 4) # Not True = False"
   ]
  },
  {
   "cell_type": "code",
   "execution_count": 8,
   "id": "187a2a09",
   "metadata": {},
   "outputs": [
    {
     "data": {
      "text/plain": [
       "True"
      ]
     },
     "execution_count": 8,
     "metadata": {},
     "output_type": "execute_result"
    }
   ],
   "source": [
    "(5 > 4) or (3 == 5) # True or False = True"
   ]
  },
  {
   "cell_type": "code",
   "execution_count": 9,
   "id": "da3f2f3a",
   "metadata": {},
   "outputs": [
    {
     "data": {
      "text/plain": [
       "False"
      ]
     },
     "execution_count": 9,
     "metadata": {},
     "output_type": "execute_result"
    }
   ],
   "source": [
    "not ((5 > 4) or (3 == 5)) # not True means False, False or False = False"
   ]
  },
  {
   "cell_type": "code",
   "execution_count": 10,
   "id": "294f6769",
   "metadata": {},
   "outputs": [
    {
     "data": {
      "text/plain": [
       "False"
      ]
     },
     "execution_count": 10,
     "metadata": {},
     "output_type": "execute_result"
    }
   ],
   "source": [
    "(True and True) and (True == False) # True and False = False"
   ]
  },
  {
   "cell_type": "code",
   "execution_count": 11,
   "id": "2134c8de",
   "metadata": {},
   "outputs": [
    {
     "data": {
      "text/plain": [
       "True"
      ]
     },
     "execution_count": 11,
     "metadata": {},
     "output_type": "execute_result"
    }
   ],
   "source": [
    "(not False) or (not True) # Not false means True and Not True means False, True or False = True."
   ]
  },
  {
   "cell_type": "markdown",
   "id": "4a52079f",
   "metadata": {},
   "source": [
    "## 5. What are the six comparison operators?"
   ]
  },
  {
   "cell_type": "markdown",
   "id": "245a192d",
   "metadata": {},
   "source": [
    "Comparison Operator will compare two values and will give us the relationship betwween them."
   ]
  },
  {
   "cell_type": "code",
   "execution_count": 12,
   "id": "51a4ba2b",
   "metadata": {},
   "outputs": [
    {
     "data": {
      "text/plain": [
       "True"
      ]
     },
     "execution_count": 12,
     "metadata": {},
     "output_type": "execute_result"
    }
   ],
   "source": [
    "# Equal to(==)\n",
    "2 == 2"
   ]
  },
  {
   "cell_type": "code",
   "execution_count": 13,
   "id": "1f69f32b",
   "metadata": {},
   "outputs": [
    {
     "data": {
      "text/plain": [
       "False"
      ]
     },
     "execution_count": 13,
     "metadata": {},
     "output_type": "execute_result"
    }
   ],
   "source": [
    "# Not Equal to(!=)\n",
    "2 != 2"
   ]
  },
  {
   "cell_type": "code",
   "execution_count": 14,
   "id": "90dcdaed",
   "metadata": {},
   "outputs": [
    {
     "data": {
      "text/plain": [
       "True"
      ]
     },
     "execution_count": 14,
     "metadata": {},
     "output_type": "execute_result"
    }
   ],
   "source": [
    "# Greater Than(>)\n",
    "3>2"
   ]
  },
  {
   "cell_type": "code",
   "execution_count": 15,
   "id": "775b147e",
   "metadata": {},
   "outputs": [
    {
     "data": {
      "text/plain": [
       "True"
      ]
     },
     "execution_count": 15,
     "metadata": {},
     "output_type": "execute_result"
    }
   ],
   "source": [
    "# Less Than(<)\n",
    "2<3"
   ]
  },
  {
   "cell_type": "code",
   "execution_count": 16,
   "id": "9a326838",
   "metadata": {},
   "outputs": [
    {
     "data": {
      "text/plain": [
       "True"
      ]
     },
     "execution_count": 16,
     "metadata": {},
     "output_type": "execute_result"
    }
   ],
   "source": [
    "# Greater Than or Equal to(>=)\n",
    "3>=2"
   ]
  },
  {
   "cell_type": "code",
   "execution_count": 17,
   "id": "80d5bab1",
   "metadata": {},
   "outputs": [
    {
     "data": {
      "text/plain": [
       "True"
      ]
     },
     "execution_count": 17,
     "metadata": {},
     "output_type": "execute_result"
    }
   ],
   "source": [
    "# Less Than or Equal to(<=)\n",
    "2<=3"
   ]
  },
  {
   "cell_type": "markdown",
   "id": "a18c4925",
   "metadata": {},
   "source": [
    "## 6. How do you tell the difference between the equal to and assignment operators?Describe a condition and when you would use one."
   ]
  },
  {
   "cell_type": "markdown",
   "id": "400a84ff",
   "metadata": {},
   "source": [
    "**Equal to Operator(==)**: This is a comparison operator which we used to compare two values.\n",
    "\n",
    "**Assignment Operator(=)**: This is used to assign value to a variable."
   ]
  },
  {
   "cell_type": "code",
   "execution_count": 18,
   "id": "de55323d",
   "metadata": {},
   "outputs": [
    {
     "name": "stdout",
     "output_type": "stream",
     "text": [
      "5\n"
     ]
    }
   ],
   "source": [
    "a = 5\n",
    "print(a) # Assignment Operator used here to assign value."
   ]
  },
  {
   "cell_type": "code",
   "execution_count": 19,
   "id": "8f069aa8",
   "metadata": {},
   "outputs": [
    {
     "data": {
      "text/plain": [
       "False"
      ]
     },
     "execution_count": 19,
     "metadata": {},
     "output_type": "execute_result"
    }
   ],
   "source": [
    "a = 5\n",
    "b = 6\n",
    "a == b # Equal to Operator used here to compare value."
   ]
  },
  {
   "cell_type": "markdown",
   "id": "5102e195",
   "metadata": {},
   "source": [
    "## 7. Identify the three blocks in this code:\n",
    "spam = 0\n",
    "\n",
    "if spam == 10:\n",
    "    print(&#39;eggs&#39;)\n",
    "    \n",
    "if spam &gt; 5:\n",
    "    print(&#39;bacon&#39;)\n",
    "    \n",
    "else:\n",
    "    print(&#39;ham&#39;)\n",
    "    print(&#39;spam&#39;)\n",
    "    print(&#39;spam&#39;)"
   ]
  },
  {
   "cell_type": "code",
   "execution_count": 20,
   "id": "c005c5c4",
   "metadata": {},
   "outputs": [
    {
     "name": "stdout",
     "output_type": "stream",
     "text": [
      "ham\n",
      "spam\n",
      "spam\n"
     ]
    }
   ],
   "source": [
    "# **Block 1**\n",
    "spam = 0\n",
    "if spam == 10: \n",
    "    print('eggs')\n",
    "\n",
    "# **Block 2**\n",
    "if spam > 5:\n",
    "    print('bacon')\n",
    "    \n",
    "# **Block 3**    \n",
    "else:\n",
    "    print('ham') \n",
    "print('spam') \n",
    "print('spam')"
   ]
  },
  {
   "cell_type": "markdown",
   "id": "a62086b4",
   "metadata": {},
   "source": [
    "## 8. Write code that prints Hello if 1 is stored in spam, prints Howdy if 2 is stored in spam, and prints greetings! if anything else is stored in spam."
   ]
  },
  {
   "cell_type": "code",
   "execution_count": 21,
   "id": "bfc320b5",
   "metadata": {},
   "outputs": [
    {
     "name": "stdout",
     "output_type": "stream",
     "text": [
      "Hello!\n"
     ]
    }
   ],
   "source": [
    "spam = 1\n",
    "if spam == 1:\n",
    "    print('Hello!')\n",
    "elif spam == 2:\n",
    "    print('Howdy')\n",
    "else:\n",
    "    print('Greetings!')"
   ]
  },
  {
   "cell_type": "code",
   "execution_count": 22,
   "id": "5372a6ea",
   "metadata": {},
   "outputs": [
    {
     "name": "stdout",
     "output_type": "stream",
     "text": [
      "Enter the Number: 2\n",
      "Howdy\n"
     ]
    }
   ],
   "source": [
    "spam = int(input('Enter the Number: '))\n",
    "if spam == 1:\n",
    "    print('Hello!')\n",
    "elif spam == 2:\n",
    "    print('Howdy')\n",
    "else:\n",
    "    print('Greetings!')"
   ]
  },
  {
   "cell_type": "markdown",
   "id": "df1742b7",
   "metadata": {},
   "source": [
    "## 9.If your programme is stuck in an endless loop, what keys you’ll press?"
   ]
  },
  {
   "cell_type": "markdown",
   "id": "bb7edc60",
   "metadata": {},
   "source": [
    "**Ctrl + C**"
   ]
  },
  {
   "cell_type": "markdown",
   "id": "4cb3be07",
   "metadata": {},
   "source": [
    "## 10. How can you tell the difference between break and continue?"
   ]
  },
  {
   "cell_type": "markdown",
   "id": "54c97ac1",
   "metadata": {},
   "source": [
    "**Break :** A break statement changes the flow of a loop by terminating it after a specified condition is met.\n",
    "\n",
    "**Continue :** The continue statement is used to skip the rest of the code inside the loop for the current iteration only.\n",
    "\n"
   ]
  },
  {
   "cell_type": "markdown",
   "id": "cda53f9f",
   "metadata": {},
   "source": [
    "## 11. In a for loop, what is the difference between range(10), range(0, 10), and range(0, 10, 1)?"
   ]
  },
  {
   "cell_type": "code",
   "execution_count": 23,
   "id": "b31e730b",
   "metadata": {},
   "outputs": [
    {
     "name": "stdout",
     "output_type": "stream",
     "text": [
      "0\n",
      "1\n",
      "2\n",
      "3\n",
      "4\n",
      "5\n",
      "6\n",
      "7\n",
      "8\n",
      "9\n"
     ]
    }
   ],
   "source": [
    "for i in range(10):\n",
    "    print(i) # range(10) will give us value till 10."
   ]
  },
  {
   "cell_type": "code",
   "execution_count": 24,
   "id": "06c96654",
   "metadata": {},
   "outputs": [
    {
     "name": "stdout",
     "output_type": "stream",
     "text": [
      "0\n",
      "1\n",
      "2\n",
      "3\n",
      "4\n",
      "5\n",
      "6\n",
      "7\n",
      "8\n",
      "9\n"
     ]
    }
   ],
   "source": [
    "for i in range(0, 10):\n",
    "    print(i) # here we received output from zero to 10. we have given starting point 0, so we received output from zero."
   ]
  },
  {
   "cell_type": "code",
   "execution_count": 25,
   "id": "07d2d174",
   "metadata": {},
   "outputs": [
    {
     "name": "stdout",
     "output_type": "stream",
     "text": [
      "0\n",
      "1\n",
      "2\n",
      "3\n",
      "4\n",
      "5\n",
      "6\n",
      "7\n",
      "8\n",
      "9\n"
     ]
    }
   ],
   "source": [
    "for i in range(0, 10, 1):\n",
    "    print(i) # start point is zero, end point is 10, and step size is explicitely set to 1, so we received output till 9."
   ]
  },
  {
   "cell_type": "markdown",
   "id": "83069b00",
   "metadata": {},
   "source": [
    "## 12. Write a short program that prints the numbers 1 to 10 using a for loop. Then write an equivalent program that prints the numbers 1 to 10 using a while loop."
   ]
  },
  {
   "cell_type": "code",
   "execution_count": 26,
   "id": "8c325c41",
   "metadata": {},
   "outputs": [
    {
     "name": "stdout",
     "output_type": "stream",
     "text": [
      "1\n",
      "2\n",
      "3\n",
      "4\n",
      "5\n",
      "6\n",
      "7\n",
      "8\n",
      "9\n",
      "10\n"
     ]
    }
   ],
   "source": [
    "for i in range(1, 11):\n",
    "    print(i)"
   ]
  },
  {
   "cell_type": "code",
   "execution_count": 27,
   "id": "3a9207f5",
   "metadata": {},
   "outputs": [
    {
     "name": "stdout",
     "output_type": "stream",
     "text": [
      "1\n",
      "2\n",
      "3\n",
      "4\n",
      "5\n",
      "6\n",
      "7\n",
      "8\n",
      "9\n",
      "10\n"
     ]
    }
   ],
   "source": [
    "num = 1\n",
    "while num<=10:\n",
    "    print(num)\n",
    "    num = num+1"
   ]
  },
  {
   "cell_type": "markdown",
   "id": "e39ac110",
   "metadata": {},
   "source": [
    "## 13. If you had a function named bacon() inside a module named spam, how would you call it after importing spam?"
   ]
  },
  {
   "cell_type": "code",
   "execution_count": 28,
   "id": "e7b949d2",
   "metadata": {},
   "outputs": [
    {
     "ename": "ModuleNotFoundError",
     "evalue": "No module named 'spam'",
     "output_type": "error",
     "traceback": [
      "\u001b[1;31m---------------------------------------------------------------------------\u001b[0m",
      "\u001b[1;31mModuleNotFoundError\u001b[0m                       Traceback (most recent call last)",
      "Cell \u001b[1;32mIn[28], line 4\u001b[0m\n\u001b[0;32m      1\u001b[0m \u001b[38;5;28;01mimport\u001b[39;00m \u001b[38;5;21;01msys\u001b[39;00m\n\u001b[0;32m      2\u001b[0m sys\u001b[38;5;241m.\u001b[39mpath\u001b[38;5;241m.\u001b[39mappend(\u001b[38;5;124m'\u001b[39m\u001b[38;5;124m/path/to/spam_module_directory\u001b[39m\u001b[38;5;124m'\u001b[39m)\n\u001b[1;32m----> 4\u001b[0m \u001b[38;5;28;01mimport\u001b[39;00m \u001b[38;5;21;01mspam\u001b[39;00m\n\u001b[0;32m      5\u001b[0m spam\u001b[38;5;241m.\u001b[39mbacon()\n",
      "\u001b[1;31mModuleNotFoundError\u001b[0m: No module named 'spam'"
     ]
    }
   ],
   "source": [
    "import sys\n",
    "sys.path.append('/path/to/spam_module_directory')\n",
    "\n",
    "import spam\n",
    "spam.bacon()\n"
   ]
  },
  {
   "cell_type": "code",
   "execution_count": 29,
   "id": "26b47300",
   "metadata": {},
   "outputs": [
    {
     "name": "stderr",
     "output_type": "stream",
     "text": [
      "ERROR: Could not find a version that satisfies the requirement spam (from versions: none)\n",
      "ERROR: No matching distribution found for spam\n"
     ]
    }
   ],
   "source": [
    "!pip install spam\n"
   ]
  },
  {
   "cell_type": "markdown",
   "id": "f103d263",
   "metadata": {},
   "source": [
    "## Thank You!"
   ]
  }
 ],
 "metadata": {
  "kernelspec": {
   "display_name": "Python 3 (ipykernel)",
   "language": "python",
   "name": "python3"
  },
  "language_info": {
   "codemirror_mode": {
    "name": "ipython",
    "version": 3
   },
   "file_extension": ".py",
   "mimetype": "text/x-python",
   "name": "python",
   "nbconvert_exporter": "python",
   "pygments_lexer": "ipython3",
   "version": "3.9.8"
  }
 },
 "nbformat": 4,
 "nbformat_minor": 5
}
