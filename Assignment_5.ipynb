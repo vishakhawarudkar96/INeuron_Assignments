{
 "cells": [
  {
   "cell_type": "markdown",
   "id": "b9bc9c37",
   "metadata": {},
   "source": [
    "## Assignment 5"
   ]
  },
  {
   "cell_type": "markdown",
   "id": "22ba7155",
   "metadata": {},
   "source": [
    "## 1. What does an empty dictionary's code look like?"
   ]
  },
  {
   "cell_type": "code",
   "execution_count": 1,
   "id": "fddf04d8",
   "metadata": {},
   "outputs": [],
   "source": [
    "empty_dict = {}\n",
    "# empty_dict = {'key1':'value1', 'key2':'value2', 'key3':'value3'}"
   ]
  },
  {
   "cell_type": "markdown",
   "id": "1609292b",
   "metadata": {},
   "source": [
    "## 2. What is the value of a dictionary value with the key 'foo' and the value 42?"
   ]
  },
  {
   "cell_type": "code",
   "execution_count": 2,
   "id": "6cb7d9be",
   "metadata": {},
   "outputs": [
    {
     "name": "stdout",
     "output_type": "stream",
     "text": [
      "dict_values([42])\n",
      "42\n"
     ]
    }
   ],
   "source": [
    "dictt = {'foo':42}\n",
    "print(dictt.values()) # will get values with .value() function\n",
    "\n",
    "val = dictt['foo']    # will get value with key\n",
    "print(val)"
   ]
  },
  {
   "cell_type": "markdown",
   "id": "bbbd8555",
   "metadata": {},
   "source": [
    "## 3. What is the most significant distinction between a dictionary and a list?"
   ]
  },
  {
   "cell_type": "code",
   "execution_count": 3,
   "id": "0f96012f",
   "metadata": {},
   "outputs": [
    {
     "name": "stdout",
     "output_type": "stream",
     "text": [
      "4\n",
      "DSA\n"
     ]
    }
   ],
   "source": [
    "#Easy to Access\n",
    "list1 = [2,3,4,5,6]\n",
    "print(list1[2])             # will fetch index wise elements\n",
    "\n",
    "dictt1 = {'name':'visha', 'course':'DSA'}\n",
    "print(dictt1['course'])     # will fetch key wise value"
   ]
  },
  {
   "cell_type": "code",
   "execution_count": 4,
   "id": "1b2f5775",
   "metadata": {},
   "outputs": [
    {
     "name": "stdout",
     "output_type": "stream",
     "text": [
      "['Hello', 4, 6, 8, 10]\n",
      "{'name': 'harsha', 'course': 'DSA'}\n"
     ]
    }
   ],
   "source": [
    "# Both are Mutable\n",
    "list1 = [2,4,6,8,10]\n",
    "list1[0] = 'Hello'         # will get to change indexwise element so it is mutable.\n",
    "print(list1)\n",
    "\n",
    "dictt1 = {'name':'visha', 'course':'DSA'}\n",
    "dictt1['name'] = 'harsha'\n",
    "print(dictt1)              # will gett to change keywise value so it is mutable."
   ]
  },
  {
   "cell_type": "markdown",
   "id": "e6d79be0",
   "metadata": {},
   "source": [
    "## 4. What happens if you try to access spam['foo'] if spam is {'bar': 100}?"
   ]
  },
  {
   "cell_type": "code",
   "execution_count": 5,
   "id": "242a6a14",
   "metadata": {},
   "outputs": [
    {
     "ename": "KeyError",
     "evalue": "'foo'",
     "output_type": "error",
     "traceback": [
      "\u001b[1;31m---------------------------------------------------------------------------\u001b[0m",
      "\u001b[1;31mKeyError\u001b[0m                                  Traceback (most recent call last)",
      "Cell \u001b[1;32mIn[5], line 2\u001b[0m\n\u001b[0;32m      1\u001b[0m spam \u001b[38;5;241m=\u001b[39m {\u001b[38;5;124m'\u001b[39m\u001b[38;5;124mbar\u001b[39m\u001b[38;5;124m'\u001b[39m:\u001b[38;5;241m100\u001b[39m}\n\u001b[1;32m----> 2\u001b[0m \u001b[43mspam\u001b[49m\u001b[43m[\u001b[49m\u001b[38;5;124;43m'\u001b[39;49m\u001b[38;5;124;43mfoo\u001b[39;49m\u001b[38;5;124;43m'\u001b[39;49m\u001b[43m]\u001b[49m         \u001b[38;5;66;03m# no key like 'foo' in spam dictionary.\u001b[39;00m\n",
      "\u001b[1;31mKeyError\u001b[0m: 'foo'"
     ]
    }
   ],
   "source": [
    "spam = {'bar':100}\n",
    "spam['foo']         # no key like 'foo' in spam dictionary."
   ]
  },
  {
   "cell_type": "code",
   "execution_count": 6,
   "id": "c561772c",
   "metadata": {},
   "outputs": [
    {
     "data": {
      "text/plain": [
       "'NA'"
      ]
     },
     "execution_count": 6,
     "metadata": {},
     "output_type": "execute_result"
    }
   ],
   "source": [
    "spam = {'bar':100}\n",
    "res = spam.get('foo', 'NA')   # we can add key value pair using dict.get function.\n",
    "res"
   ]
  },
  {
   "cell_type": "markdown",
   "id": "d58bdf50",
   "metadata": {},
   "source": [
    "## 5. If a dictionary is stored in spam, what is the difference between the expressions 'cat' in spam and 'cat' in spam.keys()?"
   ]
  },
  {
   "cell_type": "code",
   "execution_count": 7,
   "id": "839f05dd",
   "metadata": {},
   "outputs": [
    {
     "name": "stdout",
     "output_type": "stream",
     "text": [
      "True\n",
      "True\n"
     ]
    }
   ],
   "source": [
    "spam = {'cat':1}\n",
    "print('cat' in spam)\n",
    "print('cat' in spam.keys())  # we found cat key in dictionary using .key() function."
   ]
  },
  {
   "cell_type": "markdown",
   "id": "232079f4",
   "metadata": {},
   "source": [
    "## 6. If a dictionary is stored in spam, what is the difference between the expressions 'cat' in spam and 'cat' in spam.values()?"
   ]
  },
  {
   "cell_type": "code",
   "execution_count": 8,
   "id": "cf495a6f",
   "metadata": {},
   "outputs": [
    {
     "name": "stdout",
     "output_type": "stream",
     "text": [
      "True\n",
      "False\n"
     ]
    }
   ],
   "source": [
    "spam = {'cat': 1}\n",
    "print('cat' in spam)\n",
    "print('cat' in spam.values())   # we can get cat value in dictionary using .values() function."
   ]
  },
  {
   "cell_type": "markdown",
   "id": "81b85ca1",
   "metadata": {},
   "source": [
    "## 7. What is a shortcut for the following code?\n",
    "if 'color' not in spam:\n",
    "\n",
    "    spam['color'] = 'black'\n"
   ]
  },
  {
   "cell_type": "code",
   "execution_count": 9,
   "id": "0003b9c3",
   "metadata": {},
   "outputs": [
    {
     "data": {
      "text/plain": [
       "{'name': 'visha', 'course': 'DSA', 'color': 'red'}"
      ]
     },
     "execution_count": 9,
     "metadata": {},
     "output_type": "execute_result"
    }
   ],
   "source": [
    "spam = {'name':'visha', 'course':'DSA'}\n",
    "spam.setdefault('color', 'red') # dict.setdefault is the shortcut to access and add the elements.\n",
    "spam"
   ]
  },
  {
   "cell_type": "markdown",
   "id": "3ad56dcc",
   "metadata": {},
   "source": [
    "## 8. How do you \"pretty print\" dictionary values using which module and function?"
   ]
  },
  {
   "cell_type": "code",
   "execution_count": 10,
   "id": "48d0470d",
   "metadata": {},
   "outputs": [
    {
     "name": "stdout",
     "output_type": "stream",
     "text": [
      "{'color': 'red', 'course': 'DSA', 'name': 'visha'}\n"
     ]
    }
   ],
   "source": [
    "spam = {'name': 'visha', 'course':'DSA', 'color': 'red'}\n",
    "import pprint\n",
    "pprint.pprint(spam)   # It gives data in well structured format."
   ]
  },
  {
   "cell_type": "markdown",
   "id": "83c2f8ef",
   "metadata": {},
   "source": [
    "## Thank You!"
   ]
  }
 ],
 "metadata": {
  "kernelspec": {
   "display_name": "Python 3 (ipykernel)",
   "language": "python",
   "name": "python3"
  },
  "language_info": {
   "codemirror_mode": {
    "name": "ipython",
    "version": 3
   },
   "file_extension": ".py",
   "mimetype": "text/x-python",
   "name": "python",
   "nbconvert_exporter": "python",
   "pygments_lexer": "ipython3",
   "version": "3.9.8"
  }
 },
 "nbformat": 4,
 "nbformat_minor": 5
}
