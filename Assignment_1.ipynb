{
 "cells": [
  {
   "cell_type": "markdown",
   "id": "b0699d5d",
   "metadata": {},
   "source": [
    "## Assignment 1"
   ]
  },
  {
   "cell_type": "markdown",
   "id": "71d3236e",
   "metadata": {},
   "source": [
    "## 1. In the below elements which of them are values or an expression? eg:- values can be integer or string and expressions will be mathematical operators.\n",
    "* \n",
    "'hello'\n",
    "-87.8\n",
    "- \n",
    "/ \n",
    "+\t\n",
    "6 \n"
   ]
  },
  {
   "cell_type": "code",
   "execution_count": 1,
   "id": "24e6bbaf",
   "metadata": {},
   "outputs": [
    {
     "name": "stdout",
     "output_type": "stream",
     "text": [
      "<class 'str'>\n"
     ]
    }
   ],
   "source": [
    "a = 'hello'\n",
    "print(type(a)) # String"
   ]
  },
  {
   "cell_type": "code",
   "execution_count": 2,
   "id": "fee52aac",
   "metadata": {},
   "outputs": [
    {
     "name": "stdout",
     "output_type": "stream",
     "text": [
      "<class 'float'>\n"
     ]
    }
   ],
   "source": [
    "b = 87.8\n",
    "print(type(b)) # Values"
   ]
  },
  {
   "cell_type": "code",
   "execution_count": 3,
   "id": "c11a8acb",
   "metadata": {},
   "outputs": [
    {
     "name": "stdout",
     "output_type": "stream",
     "text": [
      "Value of C or / is mathematical Operator/Expression\n"
     ]
    }
   ],
   "source": [
    "c = '/'\n",
    "print('Value of C or / is mathematical Operator/Expression')"
   ]
  },
  {
   "cell_type": "code",
   "execution_count": 4,
   "id": "36c02f3e",
   "metadata": {},
   "outputs": [
    {
     "name": "stdout",
     "output_type": "stream",
     "text": [
      "<class 'int'>\n"
     ]
    }
   ],
   "source": [
    "d = 6\n",
    "print(type(d)) # Integer Valaues"
   ]
  },
  {
   "cell_type": "markdown",
   "id": "ee4adfd2",
   "metadata": {},
   "source": [
    "## 2. What is the difference between string and variable?"
   ]
  },
  {
   "cell_type": "markdown",
   "id": "256309ea",
   "metadata": {},
   "source": [
    "**Variable:** Variable is the name of memory location that we used to store data values. \n",
    "    I can store different types of data like string, numbers, boolean and many more.\n",
    "    We can assign values to variable and use it wherever and whenever we want."
   ]
  },
  {
   "cell_type": "markdown",
   "id": "92a4b245",
   "metadata": {},
   "source": [
    "**String:** String is a data type which is used to represent characters, symbols."
   ]
  },
  {
   "cell_type": "markdown",
   "id": "ba9c3432",
   "metadata": {},
   "source": [
    "## 3. Describe three different data types.\n"
   ]
  },
  {
   "cell_type": "markdown",
   "id": "54832a02",
   "metadata": {},
   "source": [
    "**Integer:** It is a data type which is used to store whole number without fractions. It can store both positive and negative values including zero. It can be like -2, -1, 0, 1, 2."
   ]
  },
  {
   "cell_type": "markdown",
   "id": "c74f9024",
   "metadata": {},
   "source": [
    "**Float:** \n",
    "Float data type is used to store numbers with fractions only. It can store both positive and negative values except zero."
   ]
  },
  {
   "cell_type": "markdown",
   "id": "d6aba3c8",
   "metadata": {},
   "source": [
    "## 4. What is an expression made up of? What do all expressions do?"
   ]
  },
  {
   "cell_type": "markdown",
   "id": "6f03a869",
   "metadata": {},
   "source": [
    "Expression made up of Operands and Operators. It combine these elements to represent a value.\n",
    "\n",
    "\n",
    "**Operands**: Values are involved in the expression.like '12+14', 12 and 14 are the Operands.\n",
    "\n",
    "\n",
    "**Operators**: This are symbols that perform specific operations on the operands. like '12+14', The Operator is the addition symbol (+). We have variety of operators like Arithmatic Operator, Logical Operators, Comparision Operator and many more."
   ]
  },
  {
   "cell_type": "markdown",
   "id": "2f9106bd",
   "metadata": {},
   "source": [
    "## 5. This assignment statements, like spam = 10. What is the difference between an expression and a statement?"
   ]
  },
  {
   "cell_type": "code",
   "execution_count": null,
   "id": "21fc106e",
   "metadata": {},
   "outputs": [],
   "source": []
  },
  {
   "cell_type": "markdown",
   "id": "f5c6c1b5",
   "metadata": {},
   "source": [
    "## 6. After running the following code, what does the variable bacon contain?\n",
    "bacon = 22\n",
    "\n",
    "bacon + 1\n"
   ]
  },
  {
   "cell_type": "markdown",
   "id": "cad1e3b1",
   "metadata": {},
   "source": [
    "Variable bacon will contain value 22 because we have assigned 22 value to to bacon."
   ]
  },
  {
   "cell_type": "markdown",
   "id": "9fea758c",
   "metadata": {},
   "source": [
    "## 7. What should the values of the following two terms be?\n",
    "'spam' + 'spamspam'\n",
    "\n",
    "'spam' * 3\n"
   ]
  },
  {
   "cell_type": "code",
   "execution_count": 5,
   "id": "30c7acb4",
   "metadata": {},
   "outputs": [
    {
     "name": "stdout",
     "output_type": "stream",
     "text": [
      "spamspamspam\n"
     ]
    }
   ],
   "source": [
    "a = 'spam' + 'spamspam'\n",
    "print(a)\n",
    "\n",
    "# '+' Operator used here to concatenate two strings."
   ]
  },
  {
   "cell_type": "code",
   "execution_count": 6,
   "id": "eb7e9ee0",
   "metadata": {},
   "outputs": [
    {
     "name": "stdout",
     "output_type": "stream",
     "text": [
      "spamspamspam\n"
     ]
    }
   ],
   "source": [
    "b = 'spam' * 3\n",
    "print(b)\n",
    "# '*' This operator will repeat the string according to operands."
   ]
  },
  {
   "cell_type": "markdown",
   "id": "e0b495f1",
   "metadata": {},
   "source": [
    "## 8. Why is eggs a valid variable name while 100 is invalid?"
   ]
  },
  {
   "cell_type": "markdown",
   "id": "259ef906",
   "metadata": {},
   "source": [
    "**Identifier Rules**\n",
    "1. Identifiers can consist of letters (a-z or A-Z), digits (0-9), and underscores (_).\n",
    "2. Identifiers must start with a letter (a-z or A-Z) or an underscore (_). They cannot start with a digit or any special character.\n",
    "3. Here, 'myVariable' and 'myvariable' would be treated as two different identifiers.\n",
    "4. Reserved words or Keywords, are already reserved by the programming language and cannot be used as identifiers."
   ]
  },
  {
   "cell_type": "markdown",
   "id": "7f792312",
   "metadata": {},
   "source": [
    "'eggs' is a valid variable name because it follows the rules for identifiers, starting with a letter and only containing letters.\n",
    "\n",
    "'100' is invalid as a variable name because it starts with a digit, which is not allowed by the identifier rules."
   ]
  },
  {
   "cell_type": "markdown",
   "id": "1c8bc952",
   "metadata": {},
   "source": [
    "## 9. What three functions can be used to get the integer, floating-point number, or string version of a value? "
   ]
  },
  {
   "cell_type": "code",
   "execution_count": 7,
   "id": "73b9f13f",
   "metadata": {},
   "outputs": [
    {
     "name": "stdout",
     "output_type": "stream",
     "text": [
      "5\n",
      "<class 'int'>\n",
      "5\n",
      "<class 'int'>\n"
     ]
    }
   ],
   "source": [
    "a = int(5)\n",
    "print(a)\n",
    "print(type(a))\n",
    "b = int(5.6)\n",
    "print(b)\n",
    "print(type(b))"
   ]
  },
  {
   "cell_type": "code",
   "execution_count": 8,
   "id": "88ff99e3",
   "metadata": {},
   "outputs": [
    {
     "name": "stdout",
     "output_type": "stream",
     "text": [
      "5.0\n",
      "<class 'float'>\n",
      "5.5\n",
      "<class 'float'>\n"
     ]
    }
   ],
   "source": [
    "c = float(5)\n",
    "print(c)\n",
    "print(type(c))\n",
    "d = float(5.5)\n",
    "print(d)\n",
    "print(type(d))"
   ]
  },
  {
   "cell_type": "code",
   "execution_count": 9,
   "id": "54879477",
   "metadata": {},
   "outputs": [
    {
     "name": "stdout",
     "output_type": "stream",
     "text": [
      "4.5\n",
      "<class 'str'>\n",
      "4\n",
      "<class 'str'>\n"
     ]
    }
   ],
   "source": [
    "e = str(4.5)\n",
    "print(e)\n",
    "print(type(e))\n",
    "f = str(4)\n",
    "print(f)\n",
    "print(type(f))"
   ]
  },
  {
   "cell_type": "markdown",
   "id": "6cb66858",
   "metadata": {},
   "source": [
    "## 10. Why does this expression cause an error? How can you fix it?\n",
    "'I have eaten ' + 99 + ' burritos.'\n"
   ]
  },
  {
   "cell_type": "code",
   "execution_count": 10,
   "id": "404f424a",
   "metadata": {},
   "outputs": [
    {
     "ename": "TypeError",
     "evalue": "can only concatenate str (not \"int\") to str",
     "output_type": "error",
     "traceback": [
      "\u001b[1;31m---------------------------------------------------------------------------\u001b[0m",
      "\u001b[1;31mTypeError\u001b[0m                                 Traceback (most recent call last)",
      "Cell \u001b[1;32mIn[10], line 1\u001b[0m\n\u001b[1;32m----> 1\u001b[0m a \u001b[38;5;241m=\u001b[39m \u001b[38;5;124;43m'\u001b[39;49m\u001b[38;5;124;43mI have eaten \u001b[39;49m\u001b[38;5;124;43m'\u001b[39;49m\u001b[43m \u001b[49m\u001b[38;5;241;43m+\u001b[39;49m\u001b[43m \u001b[49m\u001b[38;5;241;43m99\u001b[39;49m \u001b[38;5;241m+\u001b[39m \u001b[38;5;124m'\u001b[39m\u001b[38;5;124m burritos.\u001b[39m\u001b[38;5;124m'\u001b[39m\n\u001b[0;32m      2\u001b[0m \u001b[38;5;28mprint\u001b[39m(a)\n",
      "\u001b[1;31mTypeError\u001b[0m: can only concatenate str (not \"int\") to str"
     ]
    }
   ],
   "source": [
    "a = 'I have eaten ' + 99 + ' burritos.'\n",
    "print(a)"
   ]
  },
  {
   "cell_type": "markdown",
   "id": "14b65c83",
   "metadata": {},
   "source": [
    "99 is the Integer value. We cannot concatenate the string value with Integer.\n",
    "\n",
    "For that, we have to convert Integer value into string to perform operations.\n",
    "\n",
    "**Correct code :**"
   ]
  },
  {
   "cell_type": "code",
   "execution_count": 11,
   "id": "2e41fe8b",
   "metadata": {},
   "outputs": [
    {
     "name": "stdout",
     "output_type": "stream",
     "text": [
      "I have eaten 99 burritos.\n"
     ]
    }
   ],
   "source": [
    "a = 'I have eaten ' + str(99) + ' burritos.'\n",
    "print(a)"
   ]
  },
  {
   "cell_type": "markdown",
   "id": "60df9235",
   "metadata": {},
   "source": [
    "## Thank You!"
   ]
  }
 ],
 "metadata": {
  "kernelspec": {
   "display_name": "Python 3 (ipykernel)",
   "language": "python",
   "name": "python3"
  },
  "language_info": {
   "codemirror_mode": {
    "name": "ipython",
    "version": 3
   },
   "file_extension": ".py",
   "mimetype": "text/x-python",
   "name": "python",
   "nbconvert_exporter": "python",
   "pygments_lexer": "ipython3",
   "version": "3.9.8"
  }
 },
 "nbformat": 4,
 "nbformat_minor": 5
}
