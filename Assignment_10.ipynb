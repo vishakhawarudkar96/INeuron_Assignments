{
 "cells": [
  {
   "cell_type": "markdown",
   "id": "b2c973b0",
   "metadata": {},
   "source": [
    "## Assignment 10"
   ]
  },
  {
   "cell_type": "markdown",
   "id": "7834d347",
   "metadata": {},
   "source": [
    "## 1. What is the role of try and exception block?"
   ]
  },
  {
   "cell_type": "markdown",
   "id": "4786da39",
   "metadata": {},
   "source": [
    "**try** and **except** blocks are used to handle error, will allow us to catch and handle exception if may raise error during execution.\n",
    "\n",
    "we can overcome such exceptional situation, will improve its reliability."
   ]
  },
  {
   "cell_type": "markdown",
   "id": "b4afebf6",
   "metadata": {},
   "source": [
    "## 2. What is the syntax for a basic try-except block?"
   ]
  },
  {
   "cell_type": "code",
   "execution_count": 1,
   "id": "e91240a7",
   "metadata": {},
   "outputs": [
    {
     "name": "stdout",
     "output_type": "stream",
     "text": [
      "Any exception may Occur here!\n"
     ]
    }
   ],
   "source": [
    "try:\n",
    "    # code where code will raise error\n",
    "    print('Any exception may Occur here!')\n",
    "    \n",
    "except ExceptionType:\n",
    "    # code to handle exception\n",
    "    print('can handle solution with except')"
   ]
  },
  {
   "cell_type": "markdown",
   "id": "f2aad42e",
   "metadata": {},
   "source": [
    "## 3. What happens if an exception occurs inside a try block and there is no matching except block?"
   ]
  },
  {
   "cell_type": "markdown",
   "id": "bb0ad438",
   "metadata": {},
   "source": [
    "Code in the try block will get executed first if it throws an error. Code in the catch block will be executed.\n",
    "\n",
    "To prevent unhandled exception, we should write appropriate 'Except' block at the approprite scope to handle and catch anticipated exception."
   ]
  },
  {
   "cell_type": "markdown",
   "id": "5a247b94",
   "metadata": {},
   "source": [
    "## 4. What is the difference between using a bare except block and specifying a specific exception type?"
   ]
  },
  {
   "cell_type": "markdown",
   "id": "31672968",
   "metadata": {},
   "source": [
    "Bare 'Except' Block : This Block will catch the SystemExit and KeyboardInterrupt exceptions. It you want to catch all exception which indicate errors we can use except exception.\n",
    "\n",
    "Specific Exception type: Specific Exception type can be value error,memory error. this will allow us to handle and catch particular type of exception. This will give precise and targeted error handling based on specific exeption."
   ]
  },
  {
   "cell_type": "markdown",
   "id": "bb1cc7b1",
   "metadata": {},
   "source": [
    "## 5. Can you have nested try-except blocks in Python? If yes, then give an example."
   ]
  },
  {
   "cell_type": "markdown",
   "id": "c025d52a",
   "metadata": {},
   "source": [
    "Yes, We can have nested try-except blocks in python. "
   ]
  },
  {
   "cell_type": "code",
   "execution_count": 2,
   "id": "9cce3efc",
   "metadata": {},
   "outputs": [
    {
     "name": "stdout",
     "output_type": "stream",
     "text": [
      "outer try block\n",
      "Inner try block\n"
     ]
    }
   ],
   "source": [
    "try:\n",
    "    \n",
    "    print('outer try block')\n",
    "    \n",
    "    try:\n",
    "        print('Inner try block')\n",
    "        # a  = 10/0\n",
    "    except ZeroDivisionError:\n",
    "        print('Inner except block')\n",
    "        \n",
    "except:\n",
    "    print('Outer except block')\n",
    "        "
   ]
  },
  {
   "cell_type": "markdown",
   "id": "41bcc893",
   "metadata": {},
   "source": [
    "## 6. Can we use multiple exception blocks, if yes then give an example."
   ]
  },
  {
   "cell_type": "markdown",
   "id": "89019e21",
   "metadata": {},
   "source": [
    "Yes, we can have multiple exception blocks with different exception type."
   ]
  },
  {
   "cell_type": "code",
   "execution_count": 3,
   "id": "7f02b623",
   "metadata": {},
   "outputs": [
    {
     "name": "stdout",
     "output_type": "stream",
     "text": [
      "Division Error\n"
     ]
    }
   ],
   "source": [
    "try:\n",
    "    a = 20/0\n",
    "except ZeroDivisionError:\n",
    "    print('Division Error')\n",
    "except ValueError:\n",
    "    print('Invalid value')\n",
    "except MemoryError:\n",
    "    print('Not Enough Memory')"
   ]
  },
  {
   "cell_type": "markdown",
   "id": "34c9a27d",
   "metadata": {},
   "source": [
    "## 7. Write the reason due to which following errors are raised:\n",
    "a. EOFError\n",
    "\n",
    "b. FloatingPointError\n",
    "\n",
    "c. IndexError\n",
    "\n",
    "d. MemoryError\n",
    "\n",
    "e. OverflowError\n",
    "\n",
    "f. TabError\n",
    "\n",
    "g. ValueError"
   ]
  },
  {
   "cell_type": "markdown",
   "id": "4ca89b07",
   "metadata": {},
   "source": [
    "**EOFError** occurs when the input function reaches the end of file and tries to read more input. That means program expecting more input but encountered end of the file prematurely.\n",
    "\n",
    "**FloatingPointError** occurs when internal reresentation of floating point numbers which uses fixed number of binary digits to represent decimal number.\n",
    "\n",
    "**Index Error** occurs when a sequence subscript is out of range.\n",
    "\n",
    "**Memory Error** occurs when an Operations runs out of memory.\n",
    "\n",
    "**OverflowError** occurs when the result of an arithmetic operation is too large to be expressed by the normal number format.\n",
    "\n",
    "**TabError** occurs when inconsistent use of tabs and spaces in indentation and when we mix tabs and spaces in the same code block.\n",
    "\n",
    "**ValueError** occurs when a built-in operation or function receives an argument that has the right type but an inappropriate value."
   ]
  },
  {
   "cell_type": "markdown",
   "id": "f60cd02c",
   "metadata": {},
   "source": [
    "## 8. Write code for the following given scenario and add try-exception block to it.\n",
    "a. Program to divide two numbers\n",
    "\n",
    "b. Program to convert a string to an integer\n",
    "\n",
    "c. Program to access an element in a list\n",
    "\n",
    "d. Program to handle a specific exception\n",
    "\n",
    "e. Program to handle any exception"
   ]
  },
  {
   "cell_type": "code",
   "execution_count": 4,
   "id": "a9d35e3d",
   "metadata": {},
   "outputs": [
    {
     "name": "stdout",
     "output_type": "stream",
     "text": [
      "Enter 1st number: 10\n",
      "Enter 2nd number: 5\n",
      "2.0\n"
     ]
    }
   ],
   "source": [
    "## Program to divide two numbers\n",
    "\n",
    "try:\n",
    "    num1 = int(input('Enter 1st number: '))\n",
    "    num2 = int(input('Enter 2nd number: '))\n",
    "    num = num1 / num2\n",
    "    print(num)\n",
    "except ZeroDivisionError:\n",
    "    print('Invalid Input, cannot divide by zero!')"
   ]
  },
  {
   "cell_type": "code",
   "execution_count": 5,
   "id": "77026844",
   "metadata": {},
   "outputs": [
    {
     "name": "stdout",
     "output_type": "stream",
     "text": [
      "Enter the number: 10\n",
      "10\n"
     ]
    }
   ],
   "source": [
    "## Program to convert a string to an integer\n",
    "try:\n",
    "    str1 = input('Enter the number: ')\n",
    "    ss = int(str1)\n",
    "    print(ss)\n",
    "except ValueError:\n",
    "    print('Invalid Input, cannot convert into integer!')"
   ]
  },
  {
   "cell_type": "code",
   "execution_count": 6,
   "id": "34bc3db5",
   "metadata": {},
   "outputs": [
    {
     "name": "stdout",
     "output_type": "stream",
     "text": [
      "Enter the index: 1\n",
      "value at index 1 is 2\n"
     ]
    }
   ],
   "source": [
    "## Program to access an element in a list\n",
    "try:\n",
    "    list1 = [1,2,3,4,5,6]\n",
    "    index = int(input('Enter the index: '))\n",
    "    v = list1[index]\n",
    "    print(f\"value at index {index} is {v}\")\n",
    "        \n",
    "except IndexError:\n",
    "    print('Index is out of range!')"
   ]
  },
  {
   "cell_type": "code",
   "execution_count": 7,
   "id": "a075ee10",
   "metadata": {},
   "outputs": [
    {
     "name": "stdout",
     "output_type": "stream",
     "text": [
      "Enter the num: 10\n",
      "Enter the denom: 5\n",
      "2.0\n"
     ]
    }
   ],
   "source": [
    "## Program to handle a specific exception\n",
    "try:\n",
    "    n = int(input('Enter the num: '))\n",
    "    d = int(input('Enter the denom: '))\n",
    "    res = n/d\n",
    "    print(res)\n",
    "except ValueError:\n",
    "    print('Please enter valid Integer!')\n",
    "    "
   ]
  },
  {
   "cell_type": "code",
   "execution_count": 8,
   "id": "85baa102",
   "metadata": {},
   "outputs": [
    {
     "name": "stdout",
     "output_type": "stream",
     "text": [
      "try block code\n"
     ]
    }
   ],
   "source": [
    "## Program to handle any exception\n",
    "try:\n",
    "    print('try block code')\n",
    "except Exception:\n",
    "    print('except block code')"
   ]
  },
  {
   "cell_type": "markdown",
   "id": "3c6c8f08",
   "metadata": {},
   "source": [
    "## Thank You!"
   ]
  }
 ],
 "metadata": {
  "kernelspec": {
   "display_name": "Python 3 (ipykernel)",
   "language": "python",
   "name": "python3"
  },
  "language_info": {
   "codemirror_mode": {
    "name": "ipython",
    "version": 3
   },
   "file_extension": ".py",
   "mimetype": "text/x-python",
   "name": "python",
   "nbconvert_exporter": "python",
   "pygments_lexer": "ipython3",
   "version": "3.9.8"
  }
 },
 "nbformat": 4,
 "nbformat_minor": 5
}
