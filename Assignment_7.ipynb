{
 "cells": [
  {
   "cell_type": "markdown",
   "id": "e76f7b60",
   "metadata": {},
   "source": [
    "## Assignment 7"
   ]
  },
  {
   "cell_type": "markdown",
   "id": "5a8c5560",
   "metadata": {},
   "source": [
    "## Q.1. Create two int type variables, apply addition, subtraction, division and multiplications and store the results in variables. Then print the data in the following format by calling the variables:\n",
    "\n",
    "First variable is __ & second variable is __.\n",
    "\n",
    "Addition: __ + __ = __\n",
    "\n",
    "Subtraction: __ - __ = __\n",
    "\n",
    "Multiplication: __ * __ = __\n",
    "\n",
    "Division: __ / __ = __\n"
   ]
  },
  {
   "cell_type": "code",
   "execution_count": 1,
   "id": "58c26947",
   "metadata": {},
   "outputs": [
    {
     "name": "stdout",
     "output_type": "stream",
     "text": [
      "Enter the first number: 10\n",
      "Enter the second number: 20\n",
      "Addition:  30\n",
      "Subtraction:  -10\n",
      "Multiplication:  200\n",
      "Division:  0.5\n"
     ]
    }
   ],
   "source": [
    "first_var = int(input(\"Enter the first number: \"))\n",
    "second_var = int(input(\"Enter the second number: \"))\n",
    "\n",
    "addition = first_var + second_var\n",
    "subtraction = first_var - second_var\n",
    "multiplication = first_var * second_var\n",
    "divison = first_var / second_var\n",
    "\n",
    "print('Addition: ', addition)\n",
    "print('Subtraction: ', subtraction)\n",
    "print('Multiplication: ', multiplication)\n",
    "print('Division: ', divison)"
   ]
  },
  {
   "cell_type": "markdown",
   "id": "baa26521",
   "metadata": {},
   "source": [
    "## Q.2. What is the difference between the following operators:\n",
    "(i) ‘/’ & ‘//’\n",
    "\n",
    "(ii) ‘**’ & ‘^’\n"
   ]
  },
  {
   "cell_type": "markdown",
   "id": "8d2753a6",
   "metadata": {},
   "source": [
    "**(i) ‘/’ & ‘//’**"
   ]
  },
  {
   "cell_type": "code",
   "execution_count": 2,
   "id": "4725652d",
   "metadata": {},
   "outputs": [
    {
     "name": "stdout",
     "output_type": "stream",
     "text": [
      "2.0\n"
     ]
    }
   ],
   "source": [
    "a = 10/5\n",
    "print(a) # Performing divison and will give output in float/decimal number."
   ]
  },
  {
   "cell_type": "code",
   "execution_count": 3,
   "id": "45974709",
   "metadata": {},
   "outputs": [
    {
     "name": "stdout",
     "output_type": "stream",
     "text": [
      "2\n"
     ]
    }
   ],
   "source": [
    "b = 10//5\n",
    "print(b) # Performing divison and will give output as Integer."
   ]
  },
  {
   "cell_type": "markdown",
   "id": "e46f4abf",
   "metadata": {},
   "source": [
    "(ii) ‘**’ & ‘^’"
   ]
  },
  {
   "cell_type": "code",
   "execution_count": 4,
   "id": "855f26af",
   "metadata": {},
   "outputs": [
    {
     "name": "stdout",
     "output_type": "stream",
     "text": [
      "8\n"
     ]
    }
   ],
   "source": [
    "c = 2**3\n",
    "print(c)   # This work as exponentiation operator."
   ]
  },
  {
   "cell_type": "code",
   "execution_count": 5,
   "id": "328b4062",
   "metadata": {},
   "outputs": [
    {
     "name": "stdout",
     "output_type": "stream",
     "text": [
      "5\n"
     ]
    }
   ],
   "source": [
    "d = 6^3   \n",
    "print(d)  # This work as Bitwise Operator, This converts each operand into binary then perform operation.\n",
    "# 6 in binary is 110 and 3 in binary is 011, likewise we received 5 i.e.101 in binary."
   ]
  },
  {
   "cell_type": "markdown",
   "id": "bec7ca1a",
   "metadata": {},
   "source": [
    "## Q.3. List the logical operators."
   ]
  },
  {
   "cell_type": "markdown",
   "id": "90dd7eab",
   "metadata": {},
   "source": [
    "**AND (&&) :** AND Operator will return True if both Values/Statements are True.\n",
    "\n",
    "**OR (||) :** OR Operator will return True if any one value/statement is True.\n",
    "\n",
    "**NOT (!) :** NOT Operator will reverse the result, It will give output as False if the result is True.\n",
    "\n",
    "**XOR (^) :** This will return True if Operands have different Boolean values, will get False if Both operands are either True or False.\n",
    "\n",
    "**NAND :** NAND Operator will returns true if at least one of the operands is false. This will work exactly opposite of AND Operator.\n",
    "\n",
    "**NOR :** NOR Operator will returns true if both operands are false. This will work exactly opposite of OR Operator."
   ]
  },
  {
   "cell_type": "markdown",
   "id": "69401c6e",
   "metadata": {},
   "source": [
    "## Q.4. Explain right shift operator and left shift operator with examples."
   ]
  },
  {
   "cell_type": "markdown",
   "id": "d5cb7039",
   "metadata": {},
   "source": [
    "**Bitwise Operators :**\n",
    "\n",
    "**Left shift Operator(<<):** Left shift Operator moves a bit of an integer type expression to the left.\n",
    "\n",
    "**Right shift Operator(>>):** Right shift Operator moves the bit to the right."
   ]
  },
  {
   "cell_type": "markdown",
   "id": "f89cd1bb",
   "metadata": {},
   "source": [
    "## Q.5. Create a list containing int type data of length 15. Then write a code to check if 10 is present in the list or not."
   ]
  },
  {
   "cell_type": "code",
   "execution_count": 6,
   "id": "78c243a7",
   "metadata": {},
   "outputs": [
    {
     "name": "stdout",
     "output_type": "stream",
     "text": [
      "Yes, Present!\n"
     ]
    }
   ],
   "source": [
    "list1 = [2,4,6,8,10,12,14,18,20,22,24,26,28,30,32]\n",
    "if 10 in list1:\n",
    "    print('Yes, Present!') # It will search and if found then it will give output as Present.\n",
    "else:\n",
    "    print('No!')"
   ]
  },
  {
   "cell_type": "markdown",
   "id": "58e63d27",
   "metadata": {},
   "source": [
    "## Thank You!"
   ]
  }
 ],
 "metadata": {
  "kernelspec": {
   "display_name": "Python 3 (ipykernel)",
   "language": "python",
   "name": "python3"
  },
  "language_info": {
   "codemirror_mode": {
    "name": "ipython",
    "version": 3
   },
   "file_extension": ".py",
   "mimetype": "text/x-python",
   "name": "python",
   "nbconvert_exporter": "python",
   "pygments_lexer": "ipython3",
   "version": "3.9.8"
  }
 },
 "nbformat": 4,
 "nbformat_minor": 5
}
