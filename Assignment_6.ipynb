{
 "cells": [
  {
   "cell_type": "markdown",
   "id": "4882c3e0",
   "metadata": {},
   "source": [
    "## Assignment 6"
   ]
  },
  {
   "cell_type": "markdown",
   "id": "75f9e4c2",
   "metadata": {},
   "source": [
    "## Q.1. What are keywords in python? Using the keyword library, print all the python keywords."
   ]
  },
  {
   "cell_type": "code",
   "execution_count": 1,
   "id": "6ddb5563",
   "metadata": {},
   "outputs": [
    {
     "name": "stdout",
     "output_type": "stream",
     "text": [
      "['False', 'None', 'True', '__peg_parser__', 'and', 'as', 'assert', 'async', 'await', 'break', 'class', 'continue', 'def', 'del', 'elif', 'else', 'except', 'finally', 'for', 'from', 'global', 'if', 'import', 'in', 'is', 'lambda', 'nonlocal', 'not', 'or', 'pass', 'raise', 'return', 'try', 'while', 'with', 'yield']\n"
     ]
    }
   ],
   "source": [
    "import keyword\n",
    "print(keyword.kwlist)"
   ]
  },
  {
   "cell_type": "markdown",
   "id": "cee0be0c",
   "metadata": {},
   "source": [
    "## Q.2. What are the rules to create variables in python?"
   ]
  },
  {
   "cell_type": "markdown",
   "id": "b00f1eef",
   "metadata": {},
   "source": [
    "**Rules :**\n",
    "\n",
    "Variables must start with letters or underscore(_).\n",
    "\n",
    "Variable cannot start with numbers.\n",
    "\n",
    "Variable only contains (A-Z, a-z, 0-9 and (_)).\n",
    "\n",
    "variables are case sensetive (case, Case, CASE, all are different variables)."
   ]
  },
  {
   "cell_type": "markdown",
   "id": "ff9fe954",
   "metadata": {},
   "source": [
    "## Q.3. What are the standards and conventions followed for the nomenclature of variables in python to improve code readability and maintainability?"
   ]
  },
  {
   "cell_type": "markdown",
   "id": "60156649",
   "metadata": {},
   "source": [
    "Avoid Reserved words: We shouldn't use keywords as variable name.\n",
    "    \n",
    "Meaningful Name: We should use meaningful name and descriptive name of variables.\n",
    "    \n",
    "Variable Name: Variable should have descriptive names that reflect their purpose."
   ]
  },
  {
   "cell_type": "markdown",
   "id": "36b9b53d",
   "metadata": {},
   "source": [
    "## Q.4. What will happen if a keyword is used as a variable name?"
   ]
  },
  {
   "cell_type": "code",
   "execution_count": 2,
   "id": "5fe203b6",
   "metadata": {},
   "outputs": [
    {
     "ename": "SyntaxError",
     "evalue": "invalid syntax (2069448175.py, line 3)",
     "output_type": "error",
     "traceback": [
      "\u001b[1;36m  Cell \u001b[1;32mIn[2], line 3\u001b[1;36m\u001b[0m\n\u001b[1;33m    try = a + b\u001b[0m\n\u001b[1;37m        ^\u001b[0m\n\u001b[1;31mSyntaxError\u001b[0m\u001b[1;31m:\u001b[0m invalid syntax\n"
     ]
    }
   ],
   "source": [
    "a = 5\n",
    "b = 6\n",
    "try = a + b\n",
    "print(try) #Syntax error"
   ]
  },
  {
   "cell_type": "code",
   "execution_count": 3,
   "id": "01dedb49",
   "metadata": {},
   "outputs": [
    {
     "ename": "SyntaxError",
     "evalue": "invalid syntax (682005810.py, line 1)",
     "output_type": "error",
     "traceback": [
      "\u001b[1;36m  Cell \u001b[1;32mIn[3], line 1\u001b[1;36m\u001b[0m\n\u001b[1;33m    global = 5\u001b[0m\n\u001b[1;37m           ^\u001b[0m\n\u001b[1;31mSyntaxError\u001b[0m\u001b[1;31m:\u001b[0m invalid syntax\n"
     ]
    }
   ],
   "source": [
    "global = 5\n",
    "print(True)   # Syntax error"
   ]
  },
  {
   "cell_type": "markdown",
   "id": "bba35a42",
   "metadata": {},
   "source": [
    "## Q.5. For what purpose def keyword is used?"
   ]
  },
  {
   "cell_type": "markdown",
   "id": "040800ba",
   "metadata": {},
   "source": [
    "**def** Keyword is used to define a function."
   ]
  },
  {
   "cell_type": "markdown",
   "id": "eda28afe",
   "metadata": {},
   "source": [
    "## Q.6. What is the operation of this special character ‘\\’?"
   ]
  },
  {
   "cell_type": "markdown",
   "id": "36e7a897",
   "metadata": {},
   "source": [
    "**‘\\’** represents a **single quote character** and it is called as **backslash**."
   ]
  },
  {
   "cell_type": "markdown",
   "id": "e48cc40e",
   "metadata": {},
   "source": [
    "## Q.7. Give an example of the following conditions:\n",
    "(i) Homogeneous list\n",
    "\n",
    "(ii) Heterogeneous set\n",
    "\n",
    "(iii) Homogeneous tuple\n"
   ]
  },
  {
   "cell_type": "markdown",
   "id": "6088fcd0",
   "metadata": {},
   "source": [
    "**Homogeneous list** contains data of same data type."
   ]
  },
  {
   "cell_type": "code",
   "execution_count": 4,
   "id": "8d49fa3d",
   "metadata": {},
   "outputs": [
    {
     "data": {
      "text/plain": [
       "[2, 4, 6, 8, 10]"
      ]
     },
     "execution_count": 4,
     "metadata": {},
     "output_type": "execute_result"
    }
   ],
   "source": [
    "homo_list = [2,4,6,8,10]\n",
    "homo_list"
   ]
  },
  {
   "cell_type": "markdown",
   "id": "3b6bc75d",
   "metadata": {},
   "source": [
    "**Heterogeneous set** contains data of different data type."
   ]
  },
  {
   "cell_type": "code",
   "execution_count": 5,
   "id": "224af062",
   "metadata": {},
   "outputs": [
    {
     "data": {
      "text/plain": [
       "{-1, 1, 88.88, 'new'}"
      ]
     },
     "execution_count": 5,
     "metadata": {},
     "output_type": "execute_result"
    }
   ],
   "source": [
    "hetro_set = {1,'new', 88.88, -1}\n",
    "hetro_set"
   ]
  },
  {
   "cell_type": "markdown",
   "id": "19a82ba4",
   "metadata": {},
   "source": [
    "**Homogeneous tuple** contains data of same data type."
   ]
  },
  {
   "cell_type": "code",
   "execution_count": 6,
   "id": "d4c70455",
   "metadata": {},
   "outputs": [
    {
     "data": {
      "text/plain": [
       "('one', 'two', 'three', 'four')"
      ]
     },
     "execution_count": 6,
     "metadata": {},
     "output_type": "execute_result"
    }
   ],
   "source": [
    "homo_tup = ('one','two', 'three', 'four')\n",
    "homo_tup"
   ]
  },
  {
   "cell_type": "markdown",
   "id": "44e9bd2d",
   "metadata": {},
   "source": [
    "## Q.8. Explain the mutable and immutable data types with proper explanation & examples."
   ]
  },
  {
   "cell_type": "markdown",
   "id": "3c6df0ed",
   "metadata": {},
   "source": [
    "**Mutable :**\n",
    "List, Set and Dictionary are mutable."
   ]
  },
  {
   "cell_type": "code",
   "execution_count": 7,
   "id": "76f72bc0",
   "metadata": {},
   "outputs": [
    {
     "name": "stdout",
     "output_type": "stream",
     "text": [
      "Actual List:  [1, 2, 3, 4, 5]\n",
      "New value for index 1:  [1, 15, 3, 4, 5]\n",
      "Removed 5 number: [1, 15, 3, 4]\n",
      "New elemet added: [1, 15, 3, 4, 100]\n"
     ]
    }
   ],
   "source": [
    "# List\n",
    "list1 = [1,2,3,4,5]\n",
    "print('Actual List: ',list1)\n",
    "list1[1] = 15                                 # will change the value at index 1 to 15\n",
    "print('New value for index 1: ', list1)\n",
    "list1.remove(5)                               # will Remove element 5 from list\n",
    "print('Removed 5 number:', list1)\n",
    "list1.append(100)                             # will add 100 to the list\n",
    "print('New elemet added:', list1)"
   ]
  },
  {
   "cell_type": "code",
   "execution_count": 8,
   "id": "48d0a3f5",
   "metadata": {},
   "outputs": [
    {
     "name": "stdout",
     "output_type": "stream",
     "text": [
      "Unique value Received:  {1, 2, 3, 4, 5, 6, 132, 8, 12, 223}\n",
      "New element added: {1, 2, 3, 4, 5, 6, 132, 8, 12, -1, 223}\n",
      "removed number -1: {1, 2, 3, 4, 5, 6, 132, 8, 12, 223}\n"
     ]
    }
   ],
   "source": [
    "# Set\n",
    "set1 = {1,2,3,4,5,6,4,8,2,3,1,2,2,132,5,223,1,12,5,3}\n",
    "sset = set(set1)                        # will drop duplicate elements\n",
    "print('Unique value Received: ', sset)\n",
    "set1.add(-1)                            # will add -1 to the set\n",
    "print('New element added:', set1)\n",
    "set1.remove(-1)                         # will Remove element -1 from set\n",
    "print('removed number -1:',set1)"
   ]
  },
  {
   "cell_type": "code",
   "execution_count": 9,
   "id": "83e6e3b1",
   "metadata": {},
   "outputs": [
    {
     "name": "stdout",
     "output_type": "stream",
     "text": [
      "Actual Dict : {'name': 'vishakha', 'course': 'DSA'}\n",
      "New Dict with changed course value:  {'name': 'vishakha', 'course': 'FSDS'}\n",
      "Added new key-value pair : {'name': 'vishakha', 'course': 'FSDS', 'Fee': 20000}\n",
      "Deleted Given Key:  {'name': 'vishakha', 'course': 'FSDS'}\n"
     ]
    }
   ],
   "source": [
    "# Dictionary\n",
    "dictt = {'name': 'vishakha', 'course':'DSA'}\n",
    "print('Actual Dict :', dictt)\n",
    "dictt['course'] = 'FSDS'                        # Changed the value of course from DSA to FSDS\n",
    "print('New Dict with changed course value: ', dictt)\n",
    "dictt['Fee'] = 20000\n",
    "print('Added new key-value pair :', dictt)      # added new key-value pair in dict\n",
    "del dictt['Fee']\n",
    "print('Deleted Given Key: ', dictt)"
   ]
  },
  {
   "cell_type": "markdown",
   "id": "9c7afa13",
   "metadata": {},
   "source": [
    "**Immutable** Tuple and Strings are Immutable"
   ]
  },
  {
   "cell_type": "code",
   "execution_count": 10,
   "id": "6bd4b251",
   "metadata": {},
   "outputs": [
    {
     "name": "stdout",
     "output_type": "stream",
     "text": [
      "Actual Tuple:  (1, 2, 3, 4, 5, 6, 7, 8, 9)\n",
      "Modified Tuple with concatenation:  (1, 2, 3, 4, 5, 6, 7, 8, 9, 1000)\n"
     ]
    }
   ],
   "source": [
    "# Tuple\n",
    "tup = (1,2,3,4,5,6,7,8,9)\n",
    "print('Actual Tuple: ', tup)\n",
    "# We cannot modify Tuple elements because it doesn't support elements assignment.\n",
    "# tup[3] = 44.44\n",
    "# print('Modified Tuple :', tup)\n",
    "\n",
    "new_tup = tup + (1000,) # We can only concatenate tuple(one with another)\n",
    "print('Modified Tuple with concatenation: ', new_tup)"
   ]
  },
  {
   "cell_type": "code",
   "execution_count": 11,
   "id": "25bfa82e",
   "metadata": {},
   "outputs": [
    {
     "name": "stdout",
     "output_type": "stream",
     "text": [
      "Actual String:  Hello, Vishakha Warudkar\n",
      "New String:  Hello, Vishakha Warudkar, Good Morning!\n"
     ]
    }
   ],
   "source": [
    "# String\n",
    "string = 'Hello, Vishakha Warudkar'\n",
    "print('Actual String: ', string)\n",
    "new_str = string + ', Good Morning!'\n",
    "print('New String: ', new_str)"
   ]
  },
  {
   "cell_type": "markdown",
   "id": "4ff176b6",
   "metadata": {},
   "source": [
    "## Q.9. Write a code to create the given structure using only for loop."
   ]
  },
  {
   "cell_type": "code",
   "execution_count": 12,
   "id": "1c86bee0",
   "metadata": {},
   "outputs": [
    {
     "name": "stdout",
     "output_type": "stream",
     "text": [
      "*\n",
      "***\n",
      "*****\n",
      "*******\n",
      "*********\n"
     ]
    }
   ],
   "source": [
    "\"\"\"\n",
    "*\n",
    "***\n",
    "*****\n",
    "*******\n",
    "********* \n",
    "\"\"\"\n",
    "\n",
    "for i in range(1, 11, 2):\n",
    "    print('*'*i)"
   ]
  },
  {
   "cell_type": "markdown",
   "id": "ad101353",
   "metadata": {},
   "source": [
    "## Q.10. Write a code to create the given structure using while loop."
   ]
  },
  {
   "cell_type": "code",
   "execution_count": 13,
   "id": "cbc33960",
   "metadata": {},
   "outputs": [
    {
     "name": "stdout",
     "output_type": "stream",
     "text": [
      "|||||||||\n",
      "|||||||\n",
      "|||||\n",
      "|||\n",
      "|\n"
     ]
    }
   ],
   "source": [
    "\"\"\"\n",
    "|||||||||\n",
    "|||||||\n",
    "|||||\n",
    "|||\n",
    "|\n",
    "\"\"\"\n",
    "\n",
    "i = 9\n",
    "while i>=1:\n",
    "    print('|'*i)\n",
    "    i = i-2"
   ]
  },
  {
   "cell_type": "markdown",
   "id": "94f37d08",
   "metadata": {},
   "source": [
    "## Thank You!"
   ]
  }
 ],
 "metadata": {
  "kernelspec": {
   "display_name": "Python 3 (ipykernel)",
   "language": "python",
   "name": "python3"
  },
  "language_info": {
   "codemirror_mode": {
    "name": "ipython",
    "version": 3
   },
   "file_extension": ".py",
   "mimetype": "text/x-python",
   "name": "python",
   "nbconvert_exporter": "python",
   "pygments_lexer": "ipython3",
   "version": "3.9.8"
  }
 },
 "nbformat": 4,
 "nbformat_minor": 5
}
