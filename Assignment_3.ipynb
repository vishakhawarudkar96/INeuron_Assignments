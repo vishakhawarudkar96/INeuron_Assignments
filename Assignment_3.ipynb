{
 "cells": [
  {
   "cell_type": "markdown",
   "id": "eb290945",
   "metadata": {},
   "source": [
    "## Assignment 3"
   ]
  },
  {
   "cell_type": "markdown",
   "id": "878b3f79",
   "metadata": {},
   "source": [
    "## 1. Why are functions advantageous to have in your programs?"
   ]
  },
  {
   "cell_type": "markdown",
   "id": "c22bbad2",
   "metadata": {},
   "source": [
    "If we use functions, We don't need to rewrite same logic or code again and again in the program. It makes code more readable and easy to understand."
   ]
  },
  {
   "cell_type": "markdown",
   "id": "f5302585",
   "metadata": {},
   "source": [
    "## 2. When does the code in a function run: when it's specified or when it's called?"
   ]
  },
  {
   "cell_type": "markdown",
   "id": "2e514dbf",
   "metadata": {},
   "source": [
    "Code will execute the output, when we call the function."
   ]
  },
  {
   "cell_type": "code",
   "execution_count": 1,
   "id": "7fa9478e",
   "metadata": {},
   "outputs": [
    {
     "name": "stdout",
     "output_type": "stream",
     "text": [
      "Running....\n"
     ]
    }
   ],
   "source": [
    "def func():\n",
    "    print('Running....')\n",
    "func()"
   ]
  },
  {
   "cell_type": "markdown",
   "id": "d6112e5e",
   "metadata": {},
   "source": [
    "## 3. What statement creates a function?"
   ]
  },
  {
   "cell_type": "markdown",
   "id": "1a2c54fa",
   "metadata": {},
   "source": [
    "**'def'** stands for define function is used to create a function."
   ]
  },
  {
   "cell_type": "markdown",
   "id": "247349f7",
   "metadata": {},
   "source": [
    "## 4. What is the difference between a function and a function call?\n"
   ]
  },
  {
   "cell_type": "markdown",
   "id": "fc92de9c",
   "metadata": {},
   "source": [
    "**Function :** we define a function with def keyword.\n",
    "\n",
    "**Function Call :** then write function name followed by ()."
   ]
  },
  {
   "cell_type": "code",
   "execution_count": 2,
   "id": "d813011d",
   "metadata": {},
   "outputs": [
    {
     "name": "stdout",
     "output_type": "stream",
     "text": [
      "Done!\n"
     ]
    }
   ],
   "source": [
    "def assignment(): # assign is a function(function defination)\n",
    "    print('Done!')\n",
    "assignment() #Function Call"
   ]
  },
  {
   "cell_type": "markdown",
   "id": "20b237e0",
   "metadata": {},
   "source": [
    "## 5. How many global scopes are there in a Python program? How many local scopes?"
   ]
  },
  {
   "cell_type": "markdown",
   "id": "f90238fc",
   "metadata": {},
   "source": [
    "**Global Scopes:** There is only one global scope per program execution. It is created when the program starts and remains active until the program terminates.\n",
    "\n",
    "**Local Scopes:** Number of local scopes can vary depending on the number of function calls and control flow structures encountered during program execution."
   ]
  },
  {
   "cell_type": "markdown",
   "id": "c1d6883d",
   "metadata": {},
   "source": [
    "## 6. What happens to variables in a local scope when the function call returns?"
   ]
  },
  {
   "cell_type": "markdown",
   "id": "2f397f39",
   "metadata": {},
   "source": [
    "All local variables will get destroyed, and your pointer will be pointing to someplace in the memory that you no longer own."
   ]
  },
  {
   "cell_type": "markdown",
   "id": "4c3e8292",
   "metadata": {},
   "source": [
    "## 7. What is the concept of a return value? Is it possible to have a return value in an expression?"
   ]
  },
  {
   "cell_type": "markdown",
   "id": "7a82fa91",
   "metadata": {},
   "source": [
    "Return statement is a special statement that you can use inside a function or method to send the function's result back to the caller. A return statement consists of the return keyword followed by an optional return value\n",
    "\n",
    "Yes, we can get return value in an expression."
   ]
  },
  {
   "cell_type": "code",
   "execution_count": 3,
   "id": "f040698f",
   "metadata": {},
   "outputs": [
    {
     "name": "stdout",
     "output_type": "stream",
     "text": [
      "7\n"
     ]
    }
   ],
   "source": [
    "def add(a, b):\n",
    "    return a+b\n",
    "res = add(3, 4)\n",
    "print(res)"
   ]
  },
  {
   "cell_type": "markdown",
   "id": "407ada75",
   "metadata": {},
   "source": [
    "## 8. If a function does not have a return statement, what is the return value of a call to that function?"
   ]
  },
  {
   "cell_type": "markdown",
   "id": "79d93e90",
   "metadata": {},
   "source": [
    "If the function doesn't have return statement, It must provide None which represent absense of values."
   ]
  },
  {
   "cell_type": "code",
   "execution_count": 4,
   "id": "a4498b00",
   "metadata": {},
   "outputs": [
    {
     "name": "stdout",
     "output_type": "stream",
     "text": [
      "Hello, World!\n"
     ]
    }
   ],
   "source": [
    "def func():\n",
    "    print('Hello, World!')\n",
    "func()"
   ]
  },
  {
   "cell_type": "markdown",
   "id": "f8eb5134",
   "metadata": {},
   "source": [
    "## 9. How do you make a function variable refer to the global variable?"
   ]
  },
  {
   "cell_type": "markdown",
   "id": "b3b42468",
   "metadata": {},
   "source": [
    "To create global variable inside the function, we can use global keyword."
   ]
  },
  {
   "cell_type": "markdown",
   "id": "29e33021",
   "metadata": {},
   "source": [
    "## 10. What is the data type of None?"
   ]
  },
  {
   "cell_type": "markdown",
   "id": "a24c89e7",
   "metadata": {},
   "source": [
    "**None** is used to define null value or No value at all. \n",
    "It is a data type of its own(None Type)"
   ]
  },
  {
   "cell_type": "markdown",
   "id": "3fd36237",
   "metadata": {},
   "source": [
    "## 11. What does the sentence import areallyourpetsnamederic do?"
   ]
  },
  {
   "cell_type": "markdown",
   "id": "1b7f19b0",
   "metadata": {},
   "source": [
    "This will Import the module named as areallyourpetsnamederic."
   ]
  },
  {
   "cell_type": "markdown",
   "id": "432e2127",
   "metadata": {},
   "source": [
    "## 12. If you had a bacon() feature in a spam module, what would you call it after importing spam?"
   ]
  },
  {
   "cell_type": "code",
   "execution_count": 5,
   "id": "093ab71c",
   "metadata": {},
   "outputs": [
    {
     "ename": "ModuleNotFoundError",
     "evalue": "No module named 'spam'",
     "output_type": "error",
     "traceback": [
      "\u001b[1;31m---------------------------------------------------------------------------\u001b[0m",
      "\u001b[1;31mModuleNotFoundError\u001b[0m                       Traceback (most recent call last)",
      "Cell \u001b[1;32mIn[5], line 1\u001b[0m\n\u001b[1;32m----> 1\u001b[0m \u001b[38;5;28;01mimport\u001b[39;00m \u001b[38;5;21;01mspam\u001b[39;00m\n\u001b[0;32m      2\u001b[0m spam\u001b[38;5;241m.\u001b[39mbacon()\n",
      "\u001b[1;31mModuleNotFoundError\u001b[0m: No module named 'spam'"
     ]
    }
   ],
   "source": [
    "import spam\n",
    "spam.bacon()"
   ]
  },
  {
   "cell_type": "markdown",
   "id": "f5ad7d0b",
   "metadata": {},
   "source": [
    "## 13. What can you do to save a programme from crashing if it encounters an error?"
   ]
  },
  {
   "cell_type": "markdown",
   "id": "e47bc6d7",
   "metadata": {},
   "source": [
    "**Try-Except**: Try-Except allows you to gracefully catch and handle errors without crashing the program."
   ]
  },
  {
   "cell_type": "markdown",
   "id": "1ca7c3b8",
   "metadata": {},
   "source": [
    "## 14. What is the purpose of the try clause? What is the purpose of the except clause?"
   ]
  },
  {
   "cell_type": "markdown",
   "id": "3a0f6a53",
   "metadata": {},
   "source": [
    "The try clause is used to check whether the code has errors or not. The code inside the block will execute when there is no error in the program.\n",
    "\n",
    "Whenever the program encounters an error in the preceding attempt block, the code inside the block will be executed."
   ]
  },
  {
   "cell_type": "markdown",
   "id": "8282b7e2",
   "metadata": {},
   "source": [
    "## Thank You!"
   ]
  }
 ],
 "metadata": {
  "kernelspec": {
   "display_name": "Python 3 (ipykernel)",
   "language": "python",
   "name": "python3"
  },
  "language_info": {
   "codemirror_mode": {
    "name": "ipython",
    "version": 3
   },
   "file_extension": ".py",
   "mimetype": "text/x-python",
   "name": "python",
   "nbconvert_exporter": "python",
   "pygments_lexer": "ipython3",
   "version": "3.9.8"
  }
 },
 "nbformat": 4,
 "nbformat_minor": 5
}
