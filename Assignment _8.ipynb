{
 "cells": [
  {
   "cell_type": "markdown",
   "id": "6052df2e",
   "metadata": {},
   "source": [
    "## Assignment 8"
   ]
  },
  {
   "cell_type": "markdown",
   "id": "9ab2dc16",
   "metadata": {},
   "source": [
    "## **1. In Python, what is the difference between a built-in function and a user-defined function? Provide an example of each.**"
   ]
  },
  {
   "cell_type": "markdown",
   "id": "01d07b36",
   "metadata": {},
   "source": [
    "**Build-in Function :** Build in function are those which are already defined in Python Libraries, so that we can directly call them."
   ]
  },
  {
   "cell_type": "code",
   "execution_count": 1,
   "id": "a24f221a",
   "metadata": {},
   "outputs": [
    {
     "name": "stdout",
     "output_type": "stream",
     "text": [
      "8\n",
      "<class 'str'>\n",
      "15\n",
      "[10, 11, 12, 15]\n"
     ]
    }
   ],
   "source": [
    "a = 'Vishakha'\n",
    "print(len(a))\n",
    "print(type(a))\n",
    "b = [15, 10, 11, 12]\n",
    "print(max(b))\n",
    "print(sorted(b))"
   ]
  },
  {
   "cell_type": "markdown",
   "id": "3f8bf788",
   "metadata": {},
   "source": [
    "**User Defined Function :** User defined Function are created by user to perform specific task. This will allow  to code reuse."
   ]
  },
  {
   "cell_type": "code",
   "execution_count": 2,
   "id": "d29154b8",
   "metadata": {},
   "outputs": [
    {
     "data": {
      "text/plain": [
       "22"
      ]
     },
     "execution_count": 2,
     "metadata": {},
     "output_type": "execute_result"
    }
   ],
   "source": [
    "def add(x, y):\n",
    "    num = x + y\n",
    "    return num\n",
    "add(10, 12)"
   ]
  },
  {
   "cell_type": "markdown",
   "id": "126a1028",
   "metadata": {},
   "source": [
    "## **2. How can you pass arguments to a function in Python? Explain the difference between positional arguments and keyword arguments.**"
   ]
  },
  {
   "cell_type": "markdown",
   "id": "342fcd9a",
   "metadata": {},
   "source": [
    "Arguments can be passed after the function name and inside the paranthesis ( )."
   ]
  },
  {
   "cell_type": "markdown",
   "id": "4d181f1e",
   "metadata": {},
   "source": [
    "**Positional Arguments :** Positional arguments are interrelated with function parameters based on their position or order without specifying the parameter name. It is not followed by '=' and a default value. "
   ]
  },
  {
   "cell_type": "code",
   "execution_count": 3,
   "id": "91057fa1",
   "metadata": {},
   "outputs": [
    {
     "data": {
      "text/plain": [
       "8"
      ]
     },
     "execution_count": 3,
     "metadata": {},
     "output_type": "execute_result"
    }
   ],
   "source": [
    "def pov(a, b):\n",
    "    povs = a**b\n",
    "    return povs\n",
    "pov(2, 3)"
   ]
  },
  {
   "cell_type": "markdown",
   "id": "6d0d6fde",
   "metadata": {},
   "source": [
    "**Keyword Arguments :** Keyword arguments are interrelated based on their names. It is followed by an equal sign '=' and expression will provide its default value."
   ]
  },
  {
   "cell_type": "code",
   "execution_count": 4,
   "id": "ec80bcbc",
   "metadata": {},
   "outputs": [
    {
     "name": "stdout",
     "output_type": "stream",
     "text": [
      "At 7 pm Vishakha, See You There!\n"
     ]
    }
   ],
   "source": [
    "def invite(name, time = 'At 7 pm'):\n",
    "    print(time, name + \" See You There!\")\n",
    "invite(\"Vishakha,\")"
   ]
  },
  {
   "cell_type": "code",
   "execution_count": 5,
   "id": "136573ad",
   "metadata": {},
   "outputs": [
    {
     "name": "stdout",
     "output_type": "stream",
     "text": [
      "Hie Vishi See You There!\n"
     ]
    }
   ],
   "source": [
    "invite('Vishi', 'Hie')"
   ]
  },
  {
   "cell_type": "markdown",
   "id": "e4418c8d",
   "metadata": {},
   "source": [
    "## **3. What is the purpose of the return statement in a function? Can a function have multiple return statements? Explain with an example.**"
   ]
  },
  {
   "cell_type": "markdown",
   "id": "31354bea",
   "metadata": {},
   "source": [
    "**Return :** Return statement will return the Output."
   ]
  },
  {
   "cell_type": "code",
   "execution_count": 6,
   "id": "24710696",
   "metadata": {},
   "outputs": [
    {
     "name": "stdout",
     "output_type": "stream",
     "text": [
      "None\n"
     ]
    }
   ],
   "source": [
    "def summ(a, b):\n",
    "    res = a+b       # without return\n",
    "print(summ(2,3))"
   ]
  },
  {
   "cell_type": "code",
   "execution_count": 7,
   "id": "8e7ee7c3",
   "metadata": {},
   "outputs": [
    {
     "data": {
      "text/plain": [
       "5"
      ]
     },
     "execution_count": 7,
     "metadata": {},
     "output_type": "execute_result"
    }
   ],
   "source": [
    "def summ(a, b):\n",
    "    res = a+b\n",
    "    return res      # with return\n",
    "summ(2,3)"
   ]
  },
  {
   "cell_type": "code",
   "execution_count": 8,
   "id": "6d1b7c26",
   "metadata": {},
   "outputs": [
    {
     "name": "stdout",
     "output_type": "stream",
     "text": [
      "5\n"
     ]
    }
   ],
   "source": [
    "def summ(a, b):\n",
    "    res = a+b\n",
    "    print(res)      # with print\n",
    "summ(2,3)"
   ]
  },
  {
   "cell_type": "markdown",
   "id": "9ce2b1ed",
   "metadata": {},
   "source": [
    "## **4. What are lambda functions in Python? How are they different from regular functions? Provide an example where a lambda function can be useful.**"
   ]
  },
  {
   "cell_type": "markdown",
   "id": "ccf4e1cb",
   "metadata": {},
   "source": [
    "**Lambda :** Lambda function is an anonymous function which takes more number of arguments and evaluate but return only one expression."
   ]
  },
  {
   "cell_type": "markdown",
   "id": "b75b9db9",
   "metadata": {},
   "source": [
    "**Different from Regular function :**\n",
    "\n",
    "It contains only one single expression.\n",
    "\n",
    "It doesn't require function name like **'def'** keyword, It consist of **'Lambda'** keyword which has compact syntax followed by argument and a colon **' : '**."
   ]
  },
  {
   "cell_type": "code",
   "execution_count": 9,
   "id": "88dfa2bb",
   "metadata": {},
   "outputs": [
    {
     "data": {
      "text/plain": [
       "25"
      ]
     },
     "execution_count": 9,
     "metadata": {},
     "output_type": "execute_result"
    }
   ],
   "source": [
    "asc =  lambda x:x**2         # will get output using single code\n",
    "asc(5)                  "
   ]
  },
  {
   "cell_type": "markdown",
   "id": "aa8ec106",
   "metadata": {},
   "source": [
    "## **5. How does the concept of \"scope\" apply to functions in Python? Explain the difference between local scope and global scope.**"
   ]
  },
  {
   "cell_type": "markdown",
   "id": "4992c640",
   "metadata": {},
   "source": [
    "**Scope** in Function determines the visibility and accessibility of variables. Variable defined inside the scope called as local scope and Variable defined outside of function called as global scope."
   ]
  },
  {
   "cell_type": "markdown",
   "id": "568a8908",
   "metadata": {},
   "source": [
    "**Difference**\n",
    "1. Local variable is only accessible when its declared while Global Variable is accessible from anywhere in the code.\n",
    "\n",
    "2. Local Variable is announced inside the function while Global Variable is announced outside the function.\n",
    "\n",
    "3. Local Variable doesn't provide data sharing while Global Variable provides data sharing.\n",
    "\n",
    "4. Parameter Passing is necessary for Local Variables but not for Global Variable."
   ]
  },
  {
   "cell_type": "markdown",
   "id": "86a8f113",
   "metadata": {},
   "source": [
    "## **6. How can you use the \"return\" statement in a Python function to return multiple values?**"
   ]
  },
  {
   "cell_type": "markdown",
   "id": "64c8de05",
   "metadata": {},
   "source": [
    "We can use **return** statement to return multiple values. simply by seperating them with commas."
   ]
  },
  {
   "cell_type": "code",
   "execution_count": 10,
   "id": "55033312",
   "metadata": {},
   "outputs": [
    {
     "data": {
      "text/plain": [
       "(30, 200, -10, 0.5)"
      ]
     },
     "execution_count": 10,
     "metadata": {},
     "output_type": "execute_result"
    }
   ],
   "source": [
    "def summ(a, b):\n",
    "    add = a + b\n",
    "    mul = a * b\n",
    "    sub = a - b\n",
    "    div = a / b\n",
    "    return add, mul, sub, div    # we received multiple values by seperating variables with commas.\n",
    "summ(10, 20)"
   ]
  },
  {
   "cell_type": "markdown",
   "id": "91f2645c",
   "metadata": {},
   "source": [
    "## **7. What is the difference between the \"pass by value\" and \"pass by reference\" concepts when it comes to function arguments in Python?**\n"
   ]
  },
  {
   "cell_type": "markdown",
   "id": "b8d89a3c",
   "metadata": {},
   "source": [
    "**Pass by Value** : When we pass any value to the function, It will create a copy and if we do any changes to the copy of inside the function, it will not affect the original value of outside of the function. "
   ]
  },
  {
   "cell_type": "markdown",
   "id": "1b2219f7",
   "metadata": {},
   "source": [
    "**Pass by Reference**: When an Object passed to the function, Function will receive the actual reference to the object. If we do any changes to the object inside the function will also affect the original object outside of the function."
   ]
  },
  {
   "cell_type": "markdown",
   "id": "33632e6f",
   "metadata": {},
   "source": [
    "## **8. Create a function that can intake integer or decimal value and do following operations:\n",
    "a. Logarithmic function (log x)\n",
    "\n",
    "b. Exponential function (exp(x))\n",
    "\n",
    "c. Power function with base 2 (2x)\n",
    "\n",
    "d. Square root\n"
   ]
  },
  {
   "cell_type": "code",
   "execution_count": 11,
   "id": "c8852d85",
   "metadata": {},
   "outputs": [
    {
     "name": "stdout",
     "output_type": "stream",
     "text": [
      "Enter the number: 10\n"
     ]
    },
    {
     "data": {
      "text/plain": [
       "(2.302585092994046, 22026.465794806718, 1024.0, 3.1622776601683795)"
      ]
     },
     "execution_count": 11,
     "metadata": {},
     "output_type": "execute_result"
    }
   ],
   "source": [
    "import math\n",
    "num1 = float(input(\"Enter the number: \"))\n",
    "def Opr(num1):\n",
    "    LGR = math.log(num1)\n",
    "    EXP = math.exp(num1)\n",
    "    POW = math.pow(2, num1)\n",
    "    SQR = math.sqrt(num1)\n",
    "    return LGR, EXP, POW, SQR\n",
    "Opr(num1)"
   ]
  },
  {
   "cell_type": "markdown",
   "id": "2d90763b",
   "metadata": {},
   "source": [
    "## **9. Create a function that takes a full name as an argument and returns first name and last name.**"
   ]
  },
  {
   "cell_type": "code",
   "execution_count": 12,
   "id": "053cc2ad",
   "metadata": {},
   "outputs": [
    {
     "name": "stdout",
     "output_type": "stream",
     "text": [
      "Enter your Full Name: Vishakha warudkar\n",
      "Vishakha\n",
      "warudkar\n"
     ]
    }
   ],
   "source": [
    "full_name = input(\"Enter your Full Name: \")\n",
    "name = full_name.split()\n",
    "for i in name:\n",
    "    print(i)"
   ]
  },
  {
   "cell_type": "markdown",
   "id": "5cfe217b",
   "metadata": {},
   "source": [
    "## **Thank You!**"
   ]
  }
 ],
 "metadata": {
  "kernelspec": {
   "display_name": "Python 3 (ipykernel)",
   "language": "python",
   "name": "python3"
  },
  "language_info": {
   "codemirror_mode": {
    "name": "ipython",
    "version": 3
   },
   "file_extension": ".py",
   "mimetype": "text/x-python",
   "name": "python",
   "nbconvert_exporter": "python",
   "pygments_lexer": "ipython3",
   "version": "3.9.8"
  }
 },
 "nbformat": 4,
 "nbformat_minor": 5
}
